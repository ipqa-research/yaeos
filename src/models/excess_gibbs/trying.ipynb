{
 "cells": [
  {
   "cell_type": "code",
   "execution_count": 1,
   "metadata": {},
   "outputs": [],
   "source": [
    "from thermo import UNIQUAC\n",
    "\n",
    "import numpy as np"
   ]
  },
  {
   "cell_type": "code",
   "execution_count": 2,
   "metadata": {},
   "outputs": [],
   "source": [
    "A = [[0.0, -75.46,], [120.20, 0.0]]\n",
    "B = [[0.0, -0.10062], [0.44835, 0.0]]\n",
    "C = [[0.0, -0.0008052], [0.0004704, 0.0]]\n",
    "D = [[0.0, -0.001], [-0.001, 0.0]]\n",
    "F = [[0.0, -0.00001], [-0.00001, 0.0]]\n",
    "E = [[0.0, 0.0], [0.0, 0.0]]\n",
    "\n",
    "T = 298.15\n",
    "z = [0.5, 0.5]\n",
    "\n",
    "rs = [0.92, 2.1055]\n",
    "qs = [1.4, 1.972]\n",
    "\n",
    "abcdef = [A, B, C, D, E, F]"
   ]
  },
  {
   "cell_type": "code",
   "execution_count": 3,
   "metadata": {},
   "outputs": [],
   "source": [
    "model = UNIQUAC(T, z, rs, qs, ABCDEF=abcdef)"
   ]
  },
  {
   "cell_type": "code",
   "execution_count": 4,
   "metadata": {},
   "outputs": [
    {
     "data": {
      "text/plain": [
       "array([-164.27158219,   -0.24513258])"
      ]
     },
     "execution_count": 4,
     "metadata": {},
     "output_type": "execute_result"
    }
   ],
   "source": [
    "np.log(model.gammas())"
   ]
  },
  {
   "cell_type": "code",
   "execution_count": 8,
   "metadata": {},
   "outputs": [
    {
     "data": {
      "text/plain": [
       "[[[-0.5147891864518135, 0.5147891864518135],\n",
       "  [-0.33167531551012225, 0.33167531551012236]],\n",
       " [[-0.33167531551012225, 0.33167531551012236],\n",
       "  [1.178139817472058, -1.1781398174720588]]]"
      ]
     },
     "execution_count": 8,
     "metadata": {},
     "output_type": "execute_result"
    }
   ],
   "source": [
    "model.d2phis_dxixjs()"
   ]
  },
  {
   "cell_type": "code",
   "execution_count": 6,
   "metadata": {},
   "outputs": [
    {
     "ename": "SyntaxError",
     "evalue": "invalid syntax (243535342.py, line 2)",
     "output_type": "error",
     "traceback": [
      "\u001b[0;36m  Cell \u001b[0;32mIn[6], line 2\u001b[0;36m\u001b[0m\n\u001b[0;31m    -0.16475107936314445        1.4877670830442866\u001b[0m\n\u001b[0m                                ^\u001b[0m\n\u001b[0;31mSyntaxError\u001b[0m\u001b[0;31m:\u001b[0m invalid syntax\n"
     ]
    }
   ],
   "source": [
    "\n",
    " -0.51478918645181371      -0.33167531551012225      -0.33167531551012225        1.1781398174720583     \n",
    "  0.51478918645181371       0.33167531551012247       0.33167531551012247       -1.1781398174720581 "
   ]
  },
  {
   "cell_type": "code",
   "execution_count": 26,
   "metadata": {},
   "outputs": [
    {
     "data": {
      "text/latex": [
       "$\\displaystyle \\left(1 + \\frac{1}{{n}_{i}}\\right) {a}_{i}$"
      ],
      "text/plain": [
       "(1 + 1/n[i])*a[i]"
      ]
     },
     "execution_count": 26,
     "metadata": {},
     "output_type": "execute_result"
    }
   ],
   "source": [
    "import sympy as sp\n",
    "\n",
    "num = 10\n",
    "\n",
    "n = sp.IndexedBase('n')\n",
    "a = sp.IndexedBase('a')\n",
    "i = sp.symbols('i', integer=True)\n",
    "\n",
    "k = sp.symbols(\"k\", cls=sp.Idx)\n",
    "\n",
    "t1 = sp.summation(n[k] * a[k], [k, i, num])\n",
    "t2 = sp.summation(sp.log(n[k]) * a[k], [k, i, num])\n",
    "\n",
    "exp = sp.diff(t1 + t2, n[i])\n",
    "\n",
    "exp_simplificada = exp.simplify()\n",
    "\n",
    "resultado = exp_simplificada.args[0].expr\n",
    "resultado\n"
   ]
  },
  {
   "cell_type": "code",
   "execution_count": 32,
   "metadata": {},
   "outputs": [
    {
     "data": {
      "text/latex": [
       "$\\displaystyle \\sum_{k=i}^{10} \\left(\\frac{\\left(- \\frac{\\operatorname{nt}{\\left({n}_{k} \\right)} \\phi{\\left({n}_{k} \\right)} \\delta_{i k}}{{n}_{k}^{2}} + \\frac{\\operatorname{nt}{\\left({n}_{k} \\right)} \\delta_{i k} \\frac{\\partial}{\\partial {n}_{k}} \\phi{\\left({n}_{k} \\right)}}{{n}_{k}} + \\frac{\\phi{\\left({n}_{k} \\right)} \\delta_{i k} \\frac{\\partial}{\\partial {n}_{k}} \\operatorname{nt}{\\left({n}_{k} \\right)}}{{n}_{k}}\\right) {n}_{k}^{2}}{\\operatorname{nt}{\\left({n}_{k} \\right)} \\phi{\\left({n}_{k} \\right)}} + \\log{\\left(\\frac{\\operatorname{nt}{\\left({n}_{k} \\right)} \\phi{\\left({n}_{k} \\right)}}{{n}_{k}} \\right)} \\delta_{i k}\\right)$"
      ],
      "text/plain": [
       "Sum((-nt(n[k])*phi(n[k])*KroneckerDelta(i, k)/n[k]**2 + nt(n[k])*KroneckerDelta(i, k)*Derivative(phi(n[k]), n[k])/n[k] + phi(n[k])*KroneckerDelta(i, k)*Derivative(nt(n[k]), n[k])/n[k])*n[k]**2/(nt(n[k])*phi(n[k])) + log(nt(n[k])*phi(n[k])/n[k])*KroneckerDelta(i, k), (k, i, 10))"
      ]
     },
     "execution_count": 32,
     "metadata": {},
     "output_type": "execute_result"
    }
   ],
   "source": [
    "n = sp.IndexedBase('n')\n",
    "\n",
    "i = sp.symbols('i', integer=True)\n",
    "N = sp.symbols('N', integer=True)\n",
    "\n",
    "k = sp.symbols(\"k\", cls=sp.Idx)\n",
    "\n",
    "phi = sp.Function('phi')(n[k])\n",
    "nt = sp.Function('nt')(n[k])\n",
    "\n",
    "# Definir la expresión\n",
    "sum_nk = sp.summation(n[k], [k, i, num])  # Sumatoria de n_k\n",
    "\n",
    "exp = sp.summation(n[k] * sp.log(phi / n[k] * nt), [k, i, num])\n",
    "\n",
    "# Derivar respecto a n[i]\n",
    "derivada = sp.diff(exp, n[i])\n",
    "\n",
    "# Sustituir la derivada de phi por una expresión simbólica sin expandirla\n",
    "derivada"
   ]
  }
 ],
 "metadata": {
  "kernelspec": {
   "display_name": "thermo",
   "language": "python",
   "name": "python3"
  },
  "language_info": {
   "codemirror_mode": {
    "name": "ipython",
    "version": 3
   },
   "file_extension": ".py",
   "mimetype": "text/x-python",
   "name": "python",
   "nbconvert_exporter": "python",
   "pygments_lexer": "ipython3",
   "version": "3.10.12"
  }
 },
 "nbformat": 4,
 "nbformat_minor": 2
}
