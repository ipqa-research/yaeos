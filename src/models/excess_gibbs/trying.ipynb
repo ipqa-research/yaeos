{
 "cells": [
  {
   "cell_type": "code",
   "execution_count": 22,
   "metadata": {},
   "outputs": [],
   "source": [
    "from thermo import UNIQUAC"
   ]
  },
  {
   "cell_type": "code",
   "execution_count": 23,
   "metadata": {},
   "outputs": [],
   "source": [
    "A = [[0.0, -75.46,], [120.20, 0.0]]\n",
    "B = [[0.0, -0.10062], [0.44835, 0.0]]\n",
    "C = [[0.0, -0.0008052], [0.0004704, 0.0]]\n",
    "D = [[0.0, -0.001], [-0.001, 0.0]]\n",
    "F = [[0.0, -0.00001], [-0.00001, 0.0]]\n",
    "E = [[0.0, 0.0], [0.0, 0.0]]\n",
    "\n",
    "T = 298.15\n",
    "z = [0.5, 0.5]\n",
    "\n",
    "rs = [0.92, 2.1055]\n",
    "qs = [1.4, 1.972]\n",
    "\n",
    "abcdef = [A, B, C, D, E, F]"
   ]
  },
  {
   "cell_type": "code",
   "execution_count": 24,
   "metadata": {},
   "outputs": [],
   "source": [
    "model = UNIQUAC(T, z, rs, qs, ABCDEF=abcdef)"
   ]
  },
  {
   "cell_type": "code",
   "execution_count": 29,
   "metadata": {},
   "outputs": [
    {
     "name": "stdout",
     "output_type": "stream",
     "text": [
      "[0.41518386714116245, 0.5848161328588375]\n",
      "[0.4151838671411625, 0.5848161328588375]\n"
     ]
    }
   ],
   "source": [
    "print(model.thetas())\n",
    "\n",
    "print([0.41518386714116251, 0.58481613285883749])"
   ]
  }
 ],
 "metadata": {
  "kernelspec": {
   "display_name": "thermo",
   "language": "python",
   "name": "python3"
  },
  "language_info": {
   "codemirror_mode": {
    "name": "ipython",
    "version": 3
   },
   "file_extension": ".py",
   "mimetype": "text/x-python",
   "name": "python",
   "nbconvert_exporter": "python",
   "pygments_lexer": "ipython3",
   "version": "3.10.12"
  }
 },
 "nbformat": 4,
 "nbformat_minor": 2
}
