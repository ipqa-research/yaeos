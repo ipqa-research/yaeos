{
 "cells": [
  {
   "cell_type": "code",
   "execution_count": 1,
   "metadata": {},
   "outputs": [],
   "source": [
    "from thermo import UNIQUAC\n",
    "\n",
    "import numpy as np"
   ]
  },
  {
   "cell_type": "code",
   "execution_count": 2,
   "metadata": {},
   "outputs": [],
   "source": [
    "A = [[0.0, -75.46,], [120.20, 0.0]]\n",
    "B = [[0.0, -0.10062], [0.44835, 0.0]]\n",
    "C = [[0.0, -0.0008052], [0.0004704, 0.0]]\n",
    "D = [[0.0, -0.001], [-0.001, 0.0]]\n",
    "F = [[0.0, -0.00001], [-0.00001, 0.0]]\n",
    "E = [[0.0, 0.0], [0.0, 0.0]]\n",
    "\n",
    "T = 298.15\n",
    "z = [0.5, 0.5]\n",
    "\n",
    "rs = [0.92, 2.1055]\n",
    "qs = [1.4, 1.972]\n",
    "\n",
    "abcdef = [A, B, C, D, E, F]"
   ]
  },
  {
   "cell_type": "code",
   "execution_count": 3,
   "metadata": {},
   "outputs": [],
   "source": [
    "model = UNIQUAC(T, z, rs, qs, ABCDEF=abcdef)"
   ]
  },
  {
   "cell_type": "code",
   "execution_count": 4,
   "metadata": {},
   "outputs": [
    {
     "data": {
      "text/plain": [
       "array([-164.27158219,   -0.24513258])"
      ]
     },
     "execution_count": 4,
     "metadata": {},
     "output_type": "execute_result"
    }
   ],
   "source": [
    "np.log(model.gammas())"
   ]
  },
  {
   "cell_type": "code",
   "execution_count": 8,
   "metadata": {},
   "outputs": [
    {
     "data": {
      "text/plain": [
       "[-1349.966994360248, -10.352608307655686]"
      ]
     },
     "execution_count": 8,
     "metadata": {},
     "output_type": "execute_result"
    }
   ],
   "source": [
    "model.d2GE_dTdxs()"
   ]
  },
  {
   "cell_type": "code",
   "execution_count": 6,
   "metadata": {},
   "outputs": [
    {
     "ename": "SyntaxError",
     "evalue": "invalid syntax (496621443.py, line 1)",
     "output_type": "error",
     "traceback": [
      "\u001b[0;36m  Cell \u001b[0;32mIn[6], line 1\u001b[0;36m\u001b[0m\n\u001b[0;31m    -0.51478918645181371      -0.33167531551012225      -0.33167531551012225        1.1781398174720583\u001b[0m\n\u001b[0m                                                                                    ^\u001b[0m\n\u001b[0;31mSyntaxError\u001b[0m\u001b[0;31m:\u001b[0m invalid syntax\n"
     ]
    }
   ],
   "source": [
    "\n",
    " -0.51478918645181371      -0.33167531551012225      -0.33167531551012225        1.1781398174720583     \n",
    "  0.51478918645181371       0.33167531551012247       0.33167531551012247       -1.1781398174720581 "
   ]
  }
 ],
 "metadata": {
  "kernelspec": {
   "display_name": "thermo",
   "language": "python",
   "name": "python3"
  },
  "language_info": {
   "codemirror_mode": {
    "name": "ipython",
    "version": 3
   },
   "file_extension": ".py",
   "mimetype": "text/x-python",
   "name": "python",
   "nbconvert_exporter": "python",
   "pygments_lexer": "ipython3",
   "version": "3.10.12"
  }
 },
 "nbformat": 4,
 "nbformat_minor": 2
}
