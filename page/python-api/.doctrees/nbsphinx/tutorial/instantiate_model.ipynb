{
 "cells": [
  {
   "cell_type": "markdown",
   "metadata": {},
   "source": [
    "# Instantiate a model\n",
    "## Which models are available?\n",
    "\n",
    "In `yaeos`, as in thermodynamics, are two kinds of models:\n",
    "\n",
    "- Residual Helmholtz free energy models (ArModel)\n",
    "- Excess Gibbs free energy models (GeModel)\n",
    "\n",
    "`yaeos` provides a set of predefined models that will change in the future. You\n",
    "can check the list of available models in the API documentation or simply\n",
    "executing the following command on an interactive Python session (Jupyter\n",
    "Notebook, Google Colab, etc):"
   ]
  },
  {
   "cell_type": "code",
   "execution_count": 1,
   "metadata": {
    "execution": {
     "iopub.execute_input": "2024-11-24T22:54:19.628826Z",
     "iopub.status.busy": "2024-11-24T22:54:19.628648Z",
     "iopub.status.idle": "2024-11-24T22:54:19.696501Z",
     "shell.execute_reply": "2024-11-24T22:54:19.695909Z"
    }
   },
   "outputs": [],
   "source": [
    "import yaeos\n",
    "\n",
    "?yaeos.models"
   ]
  },
  {
   "cell_type": "markdown",
   "metadata": {},
   "source": [
    "All this models can be imported directly from `yaeos` with the names in the\n",
    "list. For example let's import and instantiate a `PengRobinson76` model:"
   ]
  },
  {
   "cell_type": "code",
   "execution_count": 2,
   "metadata": {
    "execution": {
     "iopub.execute_input": "2024-11-24T22:54:19.700001Z",
     "iopub.status.busy": "2024-11-24T22:54:19.699125Z",
     "iopub.status.idle": "2024-11-24T22:54:19.710541Z",
     "shell.execute_reply": "2024-11-24T22:54:19.710009Z"
    }
   },
   "outputs": [],
   "source": [
    "from yaeos import PengRobinson76\n",
    "\n",
    "# Critical constants\n",
    "Tc = [320, 375]  # critical temperatures [K]\n",
    "Pc = [30, 45]  # critical pressures [bar]\n",
    "w = [0.0123, 0.045]  # acentric factors [-]\n",
    "\n",
    "model = PengRobinson76(Tc, Pc, w)"
   ]
  },
  {
   "cell_type": "markdown",
   "metadata": {},
   "source": [
    "There we have instantiated a `PengRobinson76` model with a binary mixture and\n",
    "stored the instance in a variable called `model`. You can check the signature\n",
    "to instantiate any model with the `?` operator in an interactive Python\n",
    "session."
   ]
  },
  {
   "cell_type": "code",
   "execution_count": 3,
   "metadata": {
    "execution": {
     "iopub.execute_input": "2024-11-24T22:54:19.713691Z",
     "iopub.status.busy": "2024-11-24T22:54:19.712867Z",
     "iopub.status.idle": "2024-11-24T22:54:19.757898Z",
     "shell.execute_reply": "2024-11-24T22:54:19.757290Z"
    }
   },
   "outputs": [],
   "source": [
    "?PengRobinson76"
   ]
  },
  {
   "cell_type": "markdown",
   "metadata": {},
   "source": [
    "This can be done with all the listed models of `yaeos`."
   ]
  },
  {
   "cell_type": "code",
   "execution_count": 4,
   "metadata": {
    "execution": {
     "iopub.execute_input": "2024-11-24T22:54:19.759719Z",
     "iopub.status.busy": "2024-11-24T22:54:19.759374Z",
     "iopub.status.idle": "2024-11-24T22:54:19.763977Z",
     "shell.execute_reply": "2024-11-24T22:54:19.763506Z"
    }
   },
   "outputs": [],
   "source": [
    "from yaeos import NRTL, PengRobinson76, PengRobinson78, SoaveRedlichKwong, RKPR\n",
    "\n",
    "\n",
    "?RKPR"
   ]
  },
  {
   "cell_type": "markdown",
   "metadata": {},
   "source": [
    "## What can we do with an instantiated model?\n",
    "### Residual Helmholtz free energy models (ArModel)\n",
    "We will get later on what we can do with the Excess Gibbs free energy models\n",
    "instances.\n",
    "\n",
    "By now we will use the `PengRobinson76` instantiated in the variable `model` to\n",
    "calculate properties of the mixture. For example the fugacity coefficients of\n",
    "the mixture's components at a given composition, temperature and pressure."
   ]
  },
  {
   "cell_type": "code",
   "execution_count": 5,
   "metadata": {
    "execution": {
     "iopub.execute_input": "2024-11-24T22:54:19.765847Z",
     "iopub.status.busy": "2024-11-24T22:54:19.765427Z",
     "iopub.status.idle": "2024-11-24T22:54:19.770122Z",
     "shell.execute_reply": "2024-11-24T22:54:19.769529Z"
    }
   },
   "outputs": [
    {
     "name": "stdout",
     "output_type": "stream",
     "text": [
      "ln(phi) =  [-0.03026809 -0.03078738]\n",
      "phi =  [0.9701854  0.96968172]\n",
      "fugacity =  [1.35825956 0.58180903] bar\n"
     ]
    }
   ],
   "source": [
    "import numpy as np\n",
    "\n",
    "n = np.array([7.0, 3.0])  # moles of each component [mol]\n",
    "P = 2.0  # pressure [bar]\n",
    "T = 300.0  # temperature [K]\n",
    "\n",
    "# Calculate ln(phi) with the model (PengRobinson76)\n",
    "ln_phi = model.lnphi_pt(moles=n, pressure=P, temperature=T)\n",
    "\n",
    "# Use ln(phi) to calculate the fugacity\n",
    "phi = np.exp(ln_phi)\n",
    "z = n / np.sum(n)\n",
    "fugacity = z * phi * P\n",
    "\n",
    "# Print results\n",
    "print(\"ln(phi) = \", ln_phi)\n",
    "print(\"phi = \", phi)\n",
    "print(\"fugacity = \", fugacity, \"bar\")"
   ]
  },
  {
   "cell_type": "markdown",
   "metadata": {},
   "source": [
    "Well, analyzing the previous code by parts we have:\n",
    "\n",
    "- import numpy: `yaeos` is compatible with numpy. The functions that receives\n",
    "arrays arguments are able to handle numpy arrays.\n",
    "\n",
    "- We create three variables:\n",
    "    - `n` array with the number of moles of each component\n",
    "    - `T` with the temperature of the system in Kelvin\n",
    "    - `P` with the pressure of the system in bar\n",
    "\n",
    "- call the `lnphi_pt` method inside the previously instantiated `model` variable\n",
    "\n",
    "    ```python\n",
    "    model.<thing i want to evaluate>(arguments)\n",
    "    ```\n",
    "\n",
    "    For the users not familiar with Python and object-oriented programming, the\n",
    "    dot `.` is used to access the attributes and methods of an object, in this\n",
    "    case, the `model` object (PengRobinson76 instance). `lnphi_pt` is a \n",
    "    method of the `PengRobinson76` class that calculates the natural logarithm\n",
    "    of the fugacity coefficients of the components of the mixture at a given\n",
    "    composition, temperature and pressure. In this case the syntax is:\n",
    "\n",
    "    ```python\n",
    "    model.lnphi_pt(n, P, T)\n",
    "    ```\n",
    "\n",
    "- Use the ln(phi) returned values to calculate the fugacity coefficients\n",
    "\n",
    "    First we calculate the fugacity coefficients.\n",
    "    ```python\n",
    "    phi = np.exp(lnphi)\n",
    "    ```\n",
    "    Which means: $\\phi_i = e^{\\ln(\\phi_i)}$\n",
    "\n",
    "    Then, we calculate the mole fractions of the mixture.\n",
    "    ```python\n",
    "    z = n / np.sum(n)\n",
    "    ```\n",
    "    Which means: $z_i = \\frac{n_i}{\\sum n_i}$\n",
    "\n",
    "    Then we use the phi variable to calculate fugacities:\n",
    "\n",
    "    ```python\n",
    "    fugacity = z * phi * P\n",
    "    ```\n",
    "\n",
    "    Which means: $f = z \\; \\phi \\; P$\n",
    "\n",
    "## ArModel properties listing\n",
    "All the properties that can be calculated with an ArModel instance can be found\n",
    "on the API documentation (Core Module):\n",
    "\n",
    "https://ipqa-research.github.io/yaeos/page/python-api/core.html#yaeos.core.ArModel\n",
    "\n",
    "There you will find all the properties that can be calculated with an ArModel,\n",
    "their signatures and a brief description of what they do. Also, an example\n",
    "to calculate each one is provided.\n",
    "\n",
    "Some examples that we can calculate now:\n",
    "\n"
   ]
  },
  {
   "cell_type": "code",
   "execution_count": 6,
   "metadata": {
    "execution": {
     "iopub.execute_input": "2024-11-24T22:54:19.771977Z",
     "iopub.status.busy": "2024-11-24T22:54:19.771606Z",
     "iopub.status.idle": "2024-11-24T22:54:19.774982Z",
     "shell.execute_reply": "2024-11-24T22:54:19.774517Z"
    }
   },
   "outputs": [],
   "source": [
    "n = np.array([7.0, 3.0])  # moles of each component [mol]\n",
    "P = 15.0  # pressure [bar]\n",
    "V = 20.0  # volume [L]\n",
    "T = 300.0  # temperature [K]\n",
    "\n",
    "\n",
    "# Evaluate pressure\n",
    "pressure = model.pressure(moles=n, volume=V, temperature=T)\n",
    "\n",
    "# Evaluate ln(phi) but function of temperature and volume\n",
    "ln_phi = model.lnphi_vt(moles=n, volume=V, temperature=T)\n",
    "\n",
    "# Evaluate volume\n",
    "volume = model.volume(moles=n, pressure=P, temperature=T)"
   ]
  },
  {
   "cell_type": "markdown",
   "metadata": {},
   "source": [
    "And we can print the results:"
   ]
  },
  {
   "cell_type": "code",
   "execution_count": 7,
   "metadata": {
    "execution": {
     "iopub.execute_input": "2024-11-24T22:54:19.776713Z",
     "iopub.status.busy": "2024-11-24T22:54:19.776408Z",
     "iopub.status.idle": "2024-11-24T22:54:19.779458Z",
     "shell.execute_reply": "2024-11-24T22:54:19.778991Z"
    }
   },
   "outputs": [
    {
     "name": "stdout",
     "output_type": "stream",
     "text": [
      "Pressure:  10.30361077545868  bar\n",
      "ln_phi:  [-0.16224585 -0.1669435 ]\n",
      "Volume:  12.068572622671574  L\n"
     ]
    }
   ],
   "source": [
    "print(\"Pressure: \", pressure, \" bar\")\n",
    "print(\"ln_phi: \", ln_phi)\n",
    "print(\"Volume: \", volume, \" L\")"
   ]
  },
  {
   "cell_type": "markdown",
   "metadata": {},
   "source": [
    "If you are familiar with thermodynamics, you probably may think:\n",
    "\n",
    "    \"Well, which volume root is solving when `model.volume` is evaluated\"\n",
    "\n",
    "And you will be right, we didn't tell you yet. You can get the documentation\n",
    "of all these properties on the API documentation (the link provided above) or\n",
    "by doing:"
   ]
  },
  {
   "cell_type": "code",
   "execution_count": 8,
   "metadata": {
    "execution": {
     "iopub.execute_input": "2024-11-24T22:54:19.781219Z",
     "iopub.status.busy": "2024-11-24T22:54:19.780894Z",
     "iopub.status.idle": "2024-11-24T22:54:19.784607Z",
     "shell.execute_reply": "2024-11-24T22:54:19.784112Z"
    }
   },
   "outputs": [],
   "source": [
    "?model.volume"
   ]
  },
  {
   "cell_type": "markdown",
   "metadata": {},
   "source": [
    "If you check the API documentation you have an example of calculating \"liquid\"\n",
    "volume roots, \"vapor\" volume roots or \"stable\" volume roots, but we will\n",
    "explain it here too.\n",
    "\n",
    "As you can see in the volume documentation above. There is another argument\n",
    "that we didn't use: `root`. This argument is set as \"stable\" by default, but we\n",
    "can change it to \"vapor\" or \"liquid\" if we want. Let's see which was the\n",
    "stable root in the previous evaluation:\n"
   ]
  },
  {
   "cell_type": "code",
   "execution_count": 9,
   "metadata": {
    "execution": {
     "iopub.execute_input": "2024-11-24T22:54:19.786300Z",
     "iopub.status.busy": "2024-11-24T22:54:19.786120Z",
     "iopub.status.idle": "2024-11-24T22:54:19.790089Z",
     "shell.execute_reply": "2024-11-24T22:54:19.789611Z"
    }
   },
   "outputs": [
    {
     "name": "stdout",
     "output_type": "stream",
     "text": [
      "Stable:  12.068572622671574\n",
      "Liquid:  1.2405831819647626\n",
      "Vapor:  12.068572622671574\n"
     ]
    }
   ],
   "source": [
    "n = np.array([7.0, 3.0])  # moles of each component [mol]\n",
    "P = 15.0  # pressure [bar]\n",
    "T = 300.0  # temperature [K]\n",
    "\n",
    "\n",
    "# Stable root\n",
    "print(\n",
    "    \"Stable: \", model.volume(moles=n, pressure=P, temperature=T, root=\"stable\")\n",
    ")\n",
    "\n",
    "# Liquid root\n",
    "print(\n",
    "    \"Liquid: \", model.volume(moles=n, pressure=P, temperature=T, root=\"liquid\")\n",
    ")\n",
    "\n",
    "# Vapor root\n",
    "print(\n",
    "    \"Vapor: \", model.volume(moles=n, pressure=P, temperature=T, root=\"vapor\")\n",
    ")"
   ]
  },
  {
   "cell_type": "markdown",
   "metadata": {},
   "source": [
    "As we can see, the stable root was the vapor root. But changing the `root`\n",
    "argument we can also check the value of the liquid root if we want.\n",
    "\n",
    "Let back to the `lnphi_pt` method, there we specify temperature and \n",
    "pressure, but again, at which volume root is solving the model? The answer is\n",
    "the same as the `volume` method, the stable root. But we can change it to:"
   ]
  },
  {
   "cell_type": "code",
   "execution_count": 10,
   "metadata": {
    "execution": {
     "iopub.execute_input": "2024-11-24T22:54:19.791649Z",
     "iopub.status.busy": "2024-11-24T22:54:19.791473Z",
     "iopub.status.idle": "2024-11-24T22:54:19.795450Z",
     "shell.execute_reply": "2024-11-24T22:54:19.794969Z"
    }
   },
   "outputs": [
    {
     "name": "stdout",
     "output_type": "stream",
     "text": [
      "Stable:  [-0.24307099 -0.2526632 ]\n",
      "Liquid:  [-0.04887053 -0.3742866 ]\n",
      "Vapor:  [-0.24307099 -0.2526632 ]\n"
     ]
    }
   ],
   "source": [
    "n = np.array([7.0, 3.0])  # moles of each component [mol]\n",
    "P = 15.0  # pressure [bar]\n",
    "T = 300.0  # temperature [K]\n",
    "\n",
    "\n",
    "# Stable root\n",
    "print(\n",
    "    \"Stable: \",\n",
    "    model.lnphi_pt(moles=n, pressure=P, temperature=T, root=\"stable\"),\n",
    ")\n",
    "\n",
    "# Liquid root\n",
    "print(\n",
    "    \"Liquid: \",\n",
    "    model.lnphi_pt(moles=n, pressure=P, temperature=T, root=\"liquid\"),\n",
    ")\n",
    "\n",
    "# Vapor root\n",
    "print(\n",
    "    \"Vapor: \", model.lnphi_pt(moles=n, pressure=P, temperature=T, root=\"vapor\")\n",
    ")"
   ]
  },
  {
   "cell_type": "code",
   "execution_count": 11,
   "metadata": {
    "execution": {
     "iopub.execute_input": "2024-11-24T22:54:19.797150Z",
     "iopub.status.busy": "2024-11-24T22:54:19.796810Z",
     "iopub.status.idle": "2024-11-24T22:54:19.800984Z",
     "shell.execute_reply": "2024-11-24T22:54:19.800478Z"
    }
   },
   "outputs": [],
   "source": [
    "?model.lnphi_pt"
   ]
  },
  {
   "cell_type": "markdown",
   "metadata": {},
   "source": [
    "## Obtaining derivatives of the properties\n",
    "\n",
    "We can obtain some derivatives of the properties that we have been\n",
    "calculating. For example, the fugacity coefficients derivatives with respect\n",
    "to the number of moles of the components of the mixture."
   ]
  },
  {
   "cell_type": "code",
   "execution_count": 12,
   "metadata": {
    "execution": {
     "iopub.execute_input": "2024-11-24T22:54:19.802849Z",
     "iopub.status.busy": "2024-11-24T22:54:19.802514Z",
     "iopub.status.idle": "2024-11-24T22:54:19.809076Z",
     "shell.execute_reply": "2024-11-24T22:54:19.808493Z"
    }
   },
   "outputs": [
    {
     "name": "stdout",
     "output_type": "stream",
     "text": [
      "ln(phi):  [-0.24307099 -0.2526632 ]\n"
     ]
    },
    {
     "data": {
      "text/plain": [
       "{'dt': None,\n",
       " 'dp': None,\n",
       " 'dn': array([[-2.56426727e-06,  5.98329030e-06],\n",
       "        [ 5.98329030e-06, -1.39610107e-05]])}"
      ]
     },
     "execution_count": 12,
     "metadata": {},
     "output_type": "execute_result"
    }
   ],
   "source": [
    "lnphi, derivatives = model.lnphi_pt(\n",
    "    moles=n, pressure=P, temperature=T, dn=True\n",
    ")\n",
    "\n",
    "print(\"ln(phi): \", lnphi)\n",
    "\n",
    "derivatives"
   ]
  },
  {
   "cell_type": "markdown",
   "metadata": {},
   "source": [
    "There we set the `dn` argument to `True` to calculate the derivatives with\n",
    "respect to the number of moles of the components of the mixture. When we\n",
    "specify any of the derivatives arguments as `True` we will get another return\n",
    "of the method. The first will be the property evaluated as usual and the second\n",
    "is a Python dictionary with the calculated derivatives specified as True.\n",
    "\n",
    "If we specify all the derivatives as `True`:"
   ]
  },
  {
   "cell_type": "code",
   "execution_count": 13,
   "metadata": {
    "execution": {
     "iopub.execute_input": "2024-11-24T22:54:19.810941Z",
     "iopub.status.busy": "2024-11-24T22:54:19.810533Z",
     "iopub.status.idle": "2024-11-24T22:54:19.814394Z",
     "shell.execute_reply": "2024-11-24T22:54:19.813823Z"
    }
   },
   "outputs": [
    {
     "name": "stdout",
     "output_type": "stream",
     "text": [
      "ln(phi):  [-0.24307099 -0.2526632 ]\n",
      "{'dt': array([0.00247786, 0.00257727]), 'dp': array([-0.01786595, -0.01925548]), 'dn': array([[-2.56426727e-06,  5.98329030e-06],\n",
      "       [ 5.98329030e-06, -1.39610107e-05]])}\n"
     ]
    }
   ],
   "source": [
    "lnphi, derivatives = model.lnphi_pt(\n",
    "    moles=n, pressure=P, temperature=T, dt=True, dp=True, dn=True\n",
    ")\n",
    "\n",
    "print(\"ln(phi): \", lnphi)\n",
    "print(derivatives)"
   ]
  },
  {
   "cell_type": "markdown",
   "metadata": {},
   "source": [
    "There we get all the derivatives of `lnphi`. Of course, we can access the \n",
    "dictionary with the keys:"
   ]
  },
  {
   "cell_type": "code",
   "execution_count": 14,
   "metadata": {
    "execution": {
     "iopub.execute_input": "2024-11-24T22:54:19.816183Z",
     "iopub.status.busy": "2024-11-24T22:54:19.815859Z",
     "iopub.status.idle": "2024-11-24T22:54:19.819669Z",
     "shell.execute_reply": "2024-11-24T22:54:19.819085Z"
    }
   },
   "outputs": [
    {
     "data": {
      "text/plain": [
       "array([0.00247786, 0.00257727])"
      ]
     },
     "execution_count": 14,
     "metadata": {},
     "output_type": "execute_result"
    }
   ],
   "source": [
    "derivatives[\"dt\"]"
   ]
  },
  {
   "cell_type": "markdown",
   "metadata": {},
   "source": [
    "Check the signature of each property to see which derivatives you can calculate.\n",
    "For example `pressure`."
   ]
  },
  {
   "cell_type": "code",
   "execution_count": 15,
   "metadata": {
    "execution": {
     "iopub.execute_input": "2024-11-24T22:54:19.821401Z",
     "iopub.status.busy": "2024-11-24T22:54:19.821080Z",
     "iopub.status.idle": "2024-11-24T22:54:19.825186Z",
     "shell.execute_reply": "2024-11-24T22:54:19.824660Z"
    }
   },
   "outputs": [],
   "source": [
    "?model.pressure"
   ]
  },
  {
   "cell_type": "markdown",
   "metadata": {},
   "source": [
    "## Yaeos units\n",
    "\n",
    "If you were paying attention to the previous examples, you may have noticed that\n",
    "the units of `yaeos` are defined according to the ideal gas constant `R` with\n",
    "units:\n",
    "\n",
    "$R = 0.08314462618 \\frac{bar \\; L}{K \\; mol}$\n",
    "\n",
    "Because of that, pressure must be specified as bar, volume as liters,\n",
    "temperature as Kelvin and number of moles as moles. The returns of the \n",
    "properties will be in the same units as the inputs. Energetic properties as\n",
    "enthalpy, entropy, etc will have unit of $[bar \\; L]$, \n",
    "which equals to centijoules $[cJ]$.\n",
    "\n"
   ]
  }
 ],
 "metadata": {
  "kernelspec": {
   "display_name": "yaeos",
   "language": "python",
   "name": "python3"
  },
  "language_info": {
   "codemirror_mode": {
    "name": "ipython",
    "version": 3
   },
   "file_extension": ".py",
   "mimetype": "text/x-python",
   "name": "python",
   "nbconvert_exporter": "python",
   "pygments_lexer": "ipython3",
   "version": "3.10.12"
  }
 },
 "nbformat": 4,
 "nbformat_minor": 2
}
