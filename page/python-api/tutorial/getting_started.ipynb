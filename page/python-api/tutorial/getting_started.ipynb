{
 "cells": [
  {
   "cell_type": "markdown",
   "id": "574ddc9a",
   "metadata": {},
   "source": [
    "# Getting started\n",
    "## Local Installation\n",
    "To install the last version of `yaeos` uploaded to PyPI simply do:\n",
    "\n",
    "```shell\n",
    "pip install yaeos\n",
    "```\n",
    "## Building from source\n",
    "To build `yaeos` from source you can clone the repository and install it with \n",
    "pip. The system dependencies are:\n",
    "\n",
    "- LAPACK\n",
    "- Fortran compiler\n",
    "\n",
    "To build and install do:\n",
    "\n",
    "```shell\n",
    "git clone https://github.com/ipqa-research/yaeos.git\n",
    "cd yaeos/python\n",
    "pip install .\n",
    "```\n",
    "\n",
    "## Setting a Google Colab to use yaeos\n",
    "\n",
    "To install `yaeos` on Google Colab you can do the following command to install \n",
    "the last version uploaded to PyPI:\n",
    "\n",
    "```shell\n",
    "%pip install yaeos\n",
    "```\n",
    "\n",
    "On the other hand, if you want to install the `dev` version of `yaeos` in a\n",
    "Google Colab and try out the new (and experimental) features you can execute\n",
    "the following code:\n",
    "\n",
    ">> Note: do not execute the next commands if you don't want the `dev` version.\n",
    ">> use the previous command instead and skip the next ones.\n",
    "\n",
    "```shell\n",
    "# Installing the dev version into a google colab\n",
    "try:\n",
    "  import google.colab\n",
    "  IN_COLAB = True\n",
    "except:\n",
    "  IN_COLAB = False\n",
    "\n",
    "if IN_COLAB:\n",
    "  !git clone https://github.com/ipqa-research/yaeos.git\n",
    "  %cd yaeos\n",
    "  !git checkout dev\n",
    "  %pip install ./python\n",
    "  %cd ..\n",
    "  %rm -r yaeos\n",
    "```"
   ]
  }
 ],
 "metadata": {
  "kernelspec": {
   "display_name": "yaeos",
   "language": "python",
   "name": "python3"
  },
  "language_info": {
   "codemirror_mode": {
    "name": "ipython",
    "version": 3
   },
   "file_extension": ".py",
   "mimetype": "text/x-python",
   "name": "python",
   "nbconvert_exporter": "python",
   "pygments_lexer": "ipython3",
   "version": "3.12.3"
  }
 },
 "nbformat": 4,
 "nbformat_minor": 5
}
