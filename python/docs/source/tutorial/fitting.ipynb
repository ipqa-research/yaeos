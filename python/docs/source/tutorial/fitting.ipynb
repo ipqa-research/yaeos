{
 "cells": [
  {
   "cell_type": "markdown",
   "metadata": {},
   "source": [
    "# Fitting interaction parameters of binary systems"
   ]
  },
  {
   "cell_type": "markdown",
   "metadata": {},
   "source": [
    "Sometimes Equations of State needs an extra help to better predict behaviours.\n",
    "\n",
    "Let's see how we can optimize binary interaction parameters of a Cubic Equation,\n",
    "using equilibria data."
   ]
  },
  {
   "cell_type": "markdown",
   "metadata": {},
   "source": [
    "## Data structure\n",
    "For all the default approachs of parameter optimization the datapoints must\n",
    "be in the format of a `pandas` DataFrame, with the following columns:\n",
    "\n",
    "- `kind`: Which kind of point is defined `[\"bubble\", \"dew\", \"liquid-liquid\", \"PT\"]`.\n",
    "- `T`: Temperature (in Kelvin).\n",
    "- `P`: Pressure (in bar).\n",
    "- `x1`: Mole fraction of component 1 (lightest component) in heavy phase. \n",
    "- `y1`: Mole fraction of component 1 (lightest component) in light phase.\n",
    "\n",
    "In the following cell we import the datapoints from a `.csv` file"
   ]
  },
  {
   "cell_type": "code",
   "execution_count": 1,
   "metadata": {},
   "outputs": [
    {
     "data": {
      "text/html": [
       "<div>\n",
       "<style scoped>\n",
       "    .dataframe tbody tr th:only-of-type {\n",
       "        vertical-align: middle;\n",
       "    }\n",
       "\n",
       "    .dataframe tbody tr th {\n",
       "        vertical-align: top;\n",
       "    }\n",
       "\n",
       "    .dataframe thead th {\n",
       "        text-align: right;\n",
       "    }\n",
       "</style>\n",
       "<table border=\"1\" class=\"dataframe\">\n",
       "  <thead>\n",
       "    <tr style=\"text-align: right;\">\n",
       "      <th></th>\n",
       "      <th>kind</th>\n",
       "      <th>T</th>\n",
       "      <th>P</th>\n",
       "      <th>x1</th>\n",
       "      <th>y1</th>\n",
       "    </tr>\n",
       "  </thead>\n",
       "  <tbody>\n",
       "    <tr>\n",
       "      <th>0</th>\n",
       "      <td>bubble</td>\n",
       "      <td>303.15</td>\n",
       "      <td>20.24</td>\n",
       "      <td>0.2385</td>\n",
       "      <td>0.9721</td>\n",
       "    </tr>\n",
       "    <tr>\n",
       "      <th>1</th>\n",
       "      <td>bubble</td>\n",
       "      <td>303.15</td>\n",
       "      <td>30.36</td>\n",
       "      <td>0.3698</td>\n",
       "      <td>0.9768</td>\n",
       "    </tr>\n",
       "    <tr>\n",
       "      <th>2</th>\n",
       "      <td>bubble</td>\n",
       "      <td>303.15</td>\n",
       "      <td>39.55</td>\n",
       "      <td>0.5063</td>\n",
       "      <td>0.9815</td>\n",
       "    </tr>\n",
       "    <tr>\n",
       "      <th>3</th>\n",
       "      <td>bubble</td>\n",
       "      <td>303.15</td>\n",
       "      <td>50.95</td>\n",
       "      <td>0.7078</td>\n",
       "      <td>0.9842</td>\n",
       "    </tr>\n",
       "    <tr>\n",
       "      <th>4</th>\n",
       "      <td>bubble</td>\n",
       "      <td>303.15</td>\n",
       "      <td>57.83</td>\n",
       "      <td>0.8430</td>\n",
       "      <td>0.9855</td>\n",
       "    </tr>\n",
       "    <tr>\n",
       "      <th>5</th>\n",
       "      <td>bubble</td>\n",
       "      <td>303.15</td>\n",
       "      <td>64.68</td>\n",
       "      <td>0.9410</td>\n",
       "      <td>0.9884</td>\n",
       "    </tr>\n",
       "    <tr>\n",
       "      <th>6</th>\n",
       "      <td>bubble</td>\n",
       "      <td>303.15</td>\n",
       "      <td>67.46</td>\n",
       "      <td>0.9656</td>\n",
       "      <td>0.9909</td>\n",
       "    </tr>\n",
       "    <tr>\n",
       "      <th>7</th>\n",
       "      <td>bubble</td>\n",
       "      <td>315.15</td>\n",
       "      <td>20.84</td>\n",
       "      <td>0.2168</td>\n",
       "      <td>0.9560</td>\n",
       "    </tr>\n",
       "    <tr>\n",
       "      <th>8</th>\n",
       "      <td>bubble</td>\n",
       "      <td>315.15</td>\n",
       "      <td>30.40</td>\n",
       "      <td>0.3322</td>\n",
       "      <td>0.9660</td>\n",
       "    </tr>\n",
       "    <tr>\n",
       "      <th>9</th>\n",
       "      <td>bubble</td>\n",
       "      <td>315.15</td>\n",
       "      <td>40.52</td>\n",
       "      <td>0.4446</td>\n",
       "      <td>0.9748</td>\n",
       "    </tr>\n",
       "    <tr>\n",
       "      <th>10</th>\n",
       "      <td>bubble</td>\n",
       "      <td>315.15</td>\n",
       "      <td>50.66</td>\n",
       "      <td>0.5809</td>\n",
       "      <td>0.9753</td>\n",
       "    </tr>\n",
       "    <tr>\n",
       "      <th>11</th>\n",
       "      <td>bubble</td>\n",
       "      <td>315.15</td>\n",
       "      <td>60.29</td>\n",
       "      <td>0.7180</td>\n",
       "      <td>0.9753</td>\n",
       "    </tr>\n",
       "    <tr>\n",
       "      <th>12</th>\n",
       "      <td>bubble</td>\n",
       "      <td>315.15</td>\n",
       "      <td>69.11</td>\n",
       "      <td>0.8457</td>\n",
       "      <td>0.9764</td>\n",
       "    </tr>\n",
       "    <tr>\n",
       "      <th>13</th>\n",
       "      <td>bubble</td>\n",
       "      <td>315.15</td>\n",
       "      <td>72.89</td>\n",
       "      <td>0.8928</td>\n",
       "      <td>0.9773</td>\n",
       "    </tr>\n",
       "    <tr>\n",
       "      <th>14</th>\n",
       "      <td>bubble</td>\n",
       "      <td>315.15</td>\n",
       "      <td>75.94</td>\n",
       "      <td>0.9252</td>\n",
       "      <td>0.9777</td>\n",
       "    </tr>\n",
       "    <tr>\n",
       "      <th>15</th>\n",
       "      <td>bubble</td>\n",
       "      <td>315.15</td>\n",
       "      <td>77.50</td>\n",
       "      <td>0.9424</td>\n",
       "      <td>0.9768</td>\n",
       "    </tr>\n",
       "    <tr>\n",
       "      <th>16</th>\n",
       "      <td>bubble</td>\n",
       "      <td>315.15</td>\n",
       "      <td>78.66</td>\n",
       "      <td>0.9520</td>\n",
       "      <td>0.9756</td>\n",
       "    </tr>\n",
       "  </tbody>\n",
       "</table>\n",
       "</div>"
      ],
      "text/plain": [
       "      kind       T      P      x1      y1\n",
       "0   bubble  303.15  20.24  0.2385  0.9721\n",
       "1   bubble  303.15  30.36  0.3698  0.9768\n",
       "2   bubble  303.15  39.55  0.5063  0.9815\n",
       "3   bubble  303.15  50.95  0.7078  0.9842\n",
       "4   bubble  303.15  57.83  0.8430  0.9855\n",
       "5   bubble  303.15  64.68  0.9410  0.9884\n",
       "6   bubble  303.15  67.46  0.9656  0.9909\n",
       "7   bubble  315.15  20.84  0.2168  0.9560\n",
       "8   bubble  315.15  30.40  0.3322  0.9660\n",
       "9   bubble  315.15  40.52  0.4446  0.9748\n",
       "10  bubble  315.15  50.66  0.5809  0.9753\n",
       "11  bubble  315.15  60.29  0.7180  0.9753\n",
       "12  bubble  315.15  69.11  0.8457  0.9764\n",
       "13  bubble  315.15  72.89  0.8928  0.9773\n",
       "14  bubble  315.15  75.94  0.9252  0.9777\n",
       "15  bubble  315.15  77.50  0.9424  0.9768\n",
       "16  bubble  315.15  78.66  0.9520  0.9756"
      ]
     },
     "execution_count": 1,
     "metadata": {},
     "output_type": "execute_result"
    }
   ],
   "source": [
    "import pandas as pd\n",
    "df = pd.read_csv('./data/CO2_C6.csv')\n",
    "df"
   ]
  },
  {
   "cell_type": "markdown",
   "metadata": {},
   "source": [
    "## Default model prediction\n",
    "\n",
    "Before starting to fit BIPs, let's see how the model predicts without BIPs.\n",
    "\n",
    "First, let's define the model"
   ]
  },
  {
   "cell_type": "code",
   "execution_count": 2,
   "metadata": {},
   "outputs": [],
   "source": [
    "import yaeos\n",
    "\n",
    "Tc = [304.1, 504.0]\n",
    "Pc = [73.75, 30.12]\n",
    "w = [0.4, 0.299]\n",
    "\n",
    "model = yaeos.PengRobinson76(Tc, Pc, w)"
   ]
  },
  {
   "cell_type": "markdown",
   "metadata": {},
   "source": [
    "### Claculation of Pxy diagrams\n",
    "Now that the model is defined, lets calculate Pxy diagrams for each temperature.\n",
    "\n",
    "First, we find the unique values of temperature to iterate over them later."
   ]
  },
  {
   "cell_type": "code",
   "execution_count": 3,
   "metadata": {},
   "outputs": [
    {
     "data": {
      "text/plain": [
       "array([303.15, 315.15])"
      ]
     },
     "execution_count": 3,
     "metadata": {},
     "output_type": "execute_result"
    }
   ],
   "source": [
    "Ts = df[\"T\"].unique()\n",
    "Ts"
   ]
  },
  {
   "cell_type": "code",
   "execution_count": null,
   "metadata": {},
   "outputs": [],
   "source": [
    "import matplotlib.pyplot as plt\n",
    "\n",
    "z0 = [0, 1]\n",
    "zi = [1, 0]\n",
    "\n",
    "for T in Ts:\n",
    "\n",
    "    # Let's use a mask to only get the data for a specific temperature\n",
    "    mask = df[\"T\"] == T\n",
    "    px = model.phase_envelope_px(z0=z0, zi=zi, temperature=T, a0=0.001, ns0=len(z0)+3)\n",
    "\n",
    "    plt.plot(px.main_phases_compositions[:, 0, 0], px[\"P\"], label=\"x\")\n",
    "    plt.plot(px.reference_phase_compositions[:, 0], px[\"P\"], label=\"y\")\n",
    "\n",
    "    plt.scatter(df[mask][\"x1\"], df[mask][\"P\"], label=\"data Bubble\")\n",
    "    plt.scatter(df[mask][\"y1\"], df[mask][\"P\"], label=\"data Dew\")\n",
    "\n",
    "    plt.title(f\"Pxy diagram at T = {T} K\")\n",
    "    plt.ylabel(\"P [bar]\")\n",
    "    plt.xlabel(r\"$x_1, y_1$\")\n",
    "    plt.xlim(0, 1)\n",
    "    plt.legend()\n",
    "    plt.show()"
   ]
  },
  {
   "cell_type": "markdown",
   "metadata": {},
   "source": [
    "Here we can see that the PengRobinson EoS present a negative deviation with\n",
    "respect to the experimental points. Let's se how we can improve these\n",
    "predictions."
   ]
  },
  {
   "cell_type": "markdown",
   "metadata": {},
   "source": [
    "## Definition of the optimization problem\n",
    "\n",
    "Now that we already have our data points defined. We need to define the\n",
    "optimization problem.\n",
    "\n",
    "The `yaeos.fitting` package includes the `BinaryFitter` object, this object\n",
    "encapsulates all the logic that is needed to fit binary systems."
   ]
  },
  {
   "cell_type": "code",
   "execution_count": null,
   "metadata": {},
   "outputs": [
    {
     "name": "stdout",
     "output_type": "stream",
     "text": [
      "\u001b[31mInit signature:\u001b[39m BinaryFitter(model_setter, model_setter_args, data, verbose=\u001b[38;5;28;01mFalse\u001b[39;00m)\n",
      "\u001b[31mDocstring:\u001b[39m     \n",
      "BinaryFitter class.\n",
      "\n",
      "This class is used to fit binary interaction parameters to experimental\n",
      "data. The objective function is defined as the sum of the squared errors\n",
      "between the experimental data and the model predictions.\n",
      "\n",
      "Parameters\n",
      "----------\n",
      "model_setter : callable\n",
      "    A function that returns a model object. The function should take the\n",
      "    optimization parameters as the first argument and any other arguments\n",
      "    as the following arguments.\n",
      "model_setter_args : tuple\n",
      "    A tuple with the arguments to pass to the model_setter function.\n",
      "data : pandas.DataFrame\n",
      "    A DataFrame with the experimental data.\n",
      "    The DataFrame should have the following columns:\n",
      "    - kind: str, the kind of data point (bubble, dew, liquid-liquid, PT,\n",
      "    critical)\n",
      "    - x1: float, the mole fraction of component 1\n",
      "    - y1: float, the mole fraction of component 1\n",
      "    - T: float, the temperature in K\n",
      "    - P: float, the pressure in bar\n",
      "verbose : bool, optional\n",
      "    If True, print the objective function value and the optimization\n",
      "\u001b[31mFile:\u001b[39m           ~/docs/programming/python/virtualenvs/thermo/lib/python3.13/site-packages/yaeos/fitting/core.py\n",
      "\u001b[31mType:\u001b[39m           type\n",
      "\u001b[31mSubclasses:\u001b[39m     "
     ]
    }
   ],
   "source": [
    "import yaeos\n",
    "from yaeos.fitting import BinaryFitter\n",
    "\n",
    "BinaryFitter?"
   ]
  },
  {
   "cell_type": "markdown",
   "metadata": {},
   "source": [
    "### Model setter function\n",
    "\n",
    "Looking at the object's documentation we can see that we need to define a\n",
    "function `model_setter` that takes the vector of fitting parameters and extra\n",
    "required arguments."
   ]
  },
  {
   "cell_type": "code",
   "execution_count": null,
   "metadata": {},
   "outputs": [],
   "source": [
    "def fit_kij(x, model):\n",
    "    \"\"\"Fit kij function.\n",
    "\n",
    "    Args:\n",
    "        x (list): kij value.\n",
    "        model (yaeos.CubicEoS): CEOS model that will be fitted\n",
    "    \"\"\"\n",
    "    kij = x[0]\n",
    "\n",
    "    kij_matrix = [\n",
    "        [0, kij], \n",
    "        [kij, 0]\n",
    "    ]\n",
    "\n",
    "    lij = [\n",
    "        [0, 0],\n",
    "        [0, 0]\n",
    "    ]\n",
    "\n",
    "    mixrule = yaeos.QMR(kij=kij_matrix, lij=lij)\n",
    "\n",
    "    model.set_mixrule(mixrule)\n",
    "    \n",
    "    return model"
   ]
  },
  {
   "cell_type": "code",
   "execution_count": null,
   "metadata": {},
   "outputs": [
    {
     "name": "stdout",
     "output_type": "stream",
     "text": [
      "1.7427277515958346 [0.]\n",
      "1.7367297572626244 [0.00025]\n",
      "1.7307370080649485 [0.0005]\n",
      "1.72474952538773 [0.00075]\n",
      "1.712790445469462 [0.00125]\n",
      "1.700852689778661 [0.00175]\n",
      "1.6770418462495278 [0.00275]\n",
      "1.6533183947480148 [0.00375]\n",
      "1.6061393533646415 [0.00575]\n",
      "1.559327111499111 [0.00775]\n",
      "1.4668506368944916 [0.01175]\n",
      "1.3759871697248645 [0.01575]\n",
      "1.199517124958797 [0.02375]\n",
      "1.030807090584202 [0.03175]\n",
      "0.7207125515768745 [0.04775]\n",
      "0.45494890252076453 [0.06375]\n",
      "0.1633296153190301 [0.09575]\n",
      "0.22052696455206036 [0.12775]\n",
      "0.22052696455206036 [0.12775]\n",
      "0.09792206009347366 [0.11175]\n",
      "0.22052696455206036 [0.12775]\n",
      "0.11825669217983152 [0.10375]\n",
      "0.10598288555962829 [0.11975]\n",
      "0.09823429765712599 [0.11575]\n",
      "0.10459879763851507 [0.10775]\n",
      "0.09712360613884066 [0.11375]\n",
      "0.09823429765712599 [0.11575]\n",
      "0.09730049165208345 [0.11275]\n",
      "0.05599850855641941 [0.11475]\n",
      "0.09823429765712599 [0.11575]\n",
      "0.09823429765712599 [0.11575]\n",
      "0.05537507866049399 [0.11425]\n",
      "0.09712360613884066 [0.11375]\n",
      "0.05567258588798029 [0.1145]\n",
      "0.05510588012730981 [0.114]\n",
      "0.09712360613884066 [0.11375]\n",
      "0.09712360613884066 [0.11375]\n",
      "0.05523694758807889 [0.114125]\n",
      "0.054981862883314914 [0.113875]\n",
      "0.09712360613884066 [0.11375]\n",
      "0.09712360613884066 [0.11375]\n",
      "0.05504299106424188 [0.1139375]\n"
     ]
    }
   ],
   "source": [
    "problem = BinaryFitter(\n",
    "    model_setter=fit_kij,\n",
    "    model_setter_args=(model,),\n",
    "    data=df,\n",
    "    verbose=True\n",
    ")\n",
    "\n",
    "x0 = [0.0]\n",
    "\n",
    "problem.fit(x0, bounds=None)"
   ]
  },
  {
   "cell_type": "markdown",
   "metadata": {},
   "source": [
    "## Optimization result\n",
    "Now that we have fitted the parameter, let's see the solution. For this, we\n",
    "can see the `solution` property of the problem.\n",
    "Where we can see that the optimization terminated succesfully with a `kij` value\n",
    "of around `0.113`"
   ]
  },
  {
   "cell_type": "code",
   "execution_count": null,
   "metadata": {},
   "outputs": [
    {
     "data": {
      "text/plain": [
       "       message: Optimization terminated successfully.\n",
       "       success: True\n",
       "        status: 0\n",
       "           fun: 0.054981862883314914\n",
       "             x: [ 1.139e-01]\n",
       "           nit: 21\n",
       "          nfev: 42\n",
       " final_simplex: (array([[ 1.139e-01],\n",
       "                       [ 1.139e-01]]), array([ 5.498e-02,  5.504e-02]))"
      ]
     },
     "execution_count": 8,
     "metadata": {},
     "output_type": "execute_result"
    }
   ],
   "source": [
    "problem.solution"
   ]
  },
  {
   "cell_type": "markdown",
   "metadata": {},
   "source": [
    "### Obtain the fitted model\n",
    "Now that the problem has been optimized, let's redefine our model with the\n",
    "solution. For this, we use the `_get_model` method inside of the `BinaryFitter`\n",
    "object. This just uses the function that we have provided originally (`fit_kij`)"
   ]
  },
  {
   "cell_type": "code",
   "execution_count": null,
   "metadata": {},
   "outputs": [],
   "source": [
    "model = problem._get_model(problem.solution.x, model)"
   ]
  },
  {
   "cell_type": "markdown",
   "metadata": {},
   "source": [
    "### Make predictions\n",
    "Let's repeat the calculation of Pxy diagrams that we have done earlier"
   ]
  },
  {
   "cell_type": "code",
   "execution_count": null,
   "metadata": {},
   "outputs": [
    {
     "data": {
      "image/png": "[encoded data removed]",
      "text/plain": [
       "<Figure size 640x480 with 1 Axes>"
      ]
     },
     "metadata": {},
     "output_type": "display_data"
    },
    {
     "data": {
      "image/png": "[encoded data removed]",
      "text/plain": [
       "<Figure size 640x480 with 1 Axes>"
      ]
     },
     "metadata": {},
     "output_type": "display_data"
    }
   ],
   "source": [
    "for T in Ts:\n",
    "\n",
    "    # Let's use a mask to only get the data for a specific temperature\n",
    "    mask = df[\"T\"] == T\n",
    "    px = model.phase_envelope_px(z0=z0, zi=zi, temperature=T, ds0=1e-5, max_points=500, a0=0.01)\n",
    "\n",
    "    plt.plot(px.main_phases_compositions[:, 0, 0], px[\"P\"], label=\"x\")\n",
    "    plt.plot(px.reference_phase_compositions[:, 0], px[\"P\"], label=\"y\")\n",
    "\n",
    "    plt.scatter(df[mask][\"x1\"], df[mask][\"P\"], label=\"data Bubble\")\n",
    "    plt.scatter(df[mask][\"y1\"], df[mask][\"P\"], label=\"data Dew\")\n",
    "\n",
    "    plt.title(f\"Pxy diagram at T = {T} K\")\n",
    "    plt.ylabel(\"P [bar]\")\n",
    "    plt.xlabel(r\"$x_1, y_1$\")\n",
    "    plt.xlim(0, 1)\n",
    "    plt.legend()\n",
    "    plt.show()"
   ]
  }
 ],
 "metadata": {
  "kernelspec": {
   "display_name": "thermo",
   "language": "python",
   "name": "python3"
  },
  "language_info": {
   "codemirror_mode": {
    "name": "ipython",
    "version": 3
   },
   "file_extension": ".py",
   "mimetype": "text/x-python",
   "name": "python",
   "nbconvert_exporter": "python",
   "pygments_lexer": "ipython3",
   "version": "3.13.3"
  }
 },
 "nbformat": 4,
 "nbformat_minor": 2
}
