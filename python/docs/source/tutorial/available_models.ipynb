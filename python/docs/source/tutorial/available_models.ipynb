{
 "cells": [
  {
   "cell_type": "code",
   "execution_count": 1,
   "metadata": {},
   "outputs": [],
   "source": [
    "import ugropy as ug\n",
    "from yaeos import yaeos_c\n",
    "from ugropy import get_groups, unifac, writers\n",
    "\n",
    "import numpy as np"
   ]
  },
  {
   "cell_type": "code",
   "execution_count": 2,
   "metadata": {},
   "outputs": [
    {
     "data": {
      "text/plain": [
       "array([0.18534142, 0.40331396])"
      ]
     },
     "execution_count": 2,
     "metadata": {},
     "output_type": "execute_result"
    }
   ],
   "source": [
    "molecules = [\"ethanol\", \"water\"]\n",
    "groups = []\n",
    "for molecule in molecules:\n",
    "    grp = get_groups(unifac, molecule)\n",
    "    groups.append(writers.to_thermo(grp.subgroups, unifac))\n",
    "\n",
    "g_ids = np.zeros((len(groups), 200), dtype=int, order=\"F\")\n",
    "g_v = np.zeros((len(groups), 200), dtype=int, order=\"F\")\n",
    "ngs = []\n",
    "\n",
    "for i, grp in enumerate(groups):\n",
    "    ids = []\n",
    "    vs =[]\n",
    "    for k, v in grp.items():\n",
    "        ids.append(int(k))\n",
    "        vs.append(int(v))\n",
    "\n",
    "\n",
    "    ngs.append(len(ids))\n",
    "    g_ids[i, :len(ids)] = ids\n",
    "    g_v[i, :len(ids)] = vs\n",
    "\n",
    "uni_id = yaeos_c.unifac_vle(ngs=ngs, g_ids=g_ids, g_v=g_v)\n",
    "yaeos_c.ln_gamma(uni_id, [0.5, 0.5], 298.0)"
   ]
  },
  {
   "cell_type": "code",
   "execution_count": 3,
   "metadata": {},
   "outputs": [],
   "source": [
    "from yaeos.models.excess_gibbs import UNIFACVLE"
   ]
  },
  {
   "cell_type": "markdown",
   "metadata": {},
   "source": []
  },
  {
   "cell_type": "code",
   "execution_count": 9,
   "metadata": {},
   "outputs": [
    {
     "data": {
      "text/plain": [
       "[{1: 1, 2: 1, 14: 1}, {16: 1}]"
      ]
     },
     "execution_count": 9,
     "metadata": {},
     "output_type": "execute_result"
    }
   ],
   "source": [
    "model = UNIFACVLE(groups)\n",
    "\n",
    "groups"
   ]
  },
  {
   "cell_type": "code",
   "execution_count": 10,
   "metadata": {},
   "outputs": [
    {
     "data": {
      "text/plain": [
       "array([0.18534142, 0.40331396])"
      ]
     },
     "execution_count": 10,
     "metadata": {},
     "output_type": "execute_result"
    }
   ],
   "source": [
    "model.ln_gamma([0.5, 0.5], 298.0)"
   ]
  },
  {
   "cell_type": "code",
   "execution_count": null,
   "metadata": {},
   "outputs": [],
   "source": []
  }
 ],
 "metadata": {
  "kernelspec": {
   "display_name": "thermo",
   "language": "python",
   "name": "python3"
  },
  "language_info": {
   "codemirror_mode": {
    "name": "ipython",
    "version": 3
   },
   "file_extension": ".py",
   "mimetype": "text/x-python",
   "name": "python",
   "nbconvert_exporter": "python",
   "pygments_lexer": "ipython3",
   "version": "3.12.4"
  }
 },
 "nbformat": 4,
 "nbformat_minor": 2
}
