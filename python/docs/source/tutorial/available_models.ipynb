{
 "cells": [
  {
   "cell_type": "markdown",
   "metadata": {},
   "source": [
    "# Available models\n",
    "\n",
    "In `yaeos` there are two families of thermodynamic models available to use\n",
    "\n",
    "- `ArModel`s: Models based on the Residual Helmholtz Energy, these are Equation Of State models like PengRobinson EoS\n",
    "- `GeModel`s: Models based on the Excess Gibbs Energy like NRTL"
   ]
  },
  {
   "cell_type": "markdown",
   "metadata": {},
   "source": [
    "## Residual Helmholtz Models\n",
    "With residual Helmholtz models it is possible to calculate\n",
    "\n",
    "- $P(n, V, T)$\n",
    "- $\\ln \\phi(n, P, T)$\n",
    "- FlashPT calculations\n",
    "- Saturation points"
   ]
  },
  {
   "cell_type": "markdown",
   "metadata": {},
   "source": [
    "### SoaveRedlichKwong EoS"
   ]
  },
  {
   "cell_type": "code",
   "execution_count": 1,
   "metadata": {},
   "outputs": [
    {
     "data": {
      "text/plain": [
       "18.622487789187332"
      ]
     },
     "execution_count": 1,
     "metadata": {},
     "output_type": "execute_result"
    }
   ],
   "source": [
    "# Import the model from the library\n",
    "from yaeos import SoaveRedlichKwong\n",
    "\n",
    "# We will use the chemicals library to get the critical properties of methane\n",
    "import chemicals\n",
    "\n",
    "chem = chemicals.CAS_from_any(\"methane\")\n",
    "\n",
    "# All properties must be defined as lists, since the library can \n",
    "# handle multiple components\n",
    "Tc = [chemicals.critical.Tc(chem)]\n",
    "Pc = [chemicals.critical.Pc(chem)/1e5]\n",
    "w =  [chemicals.acentric.omega(chem)]\n",
    "\n",
    "model = SoaveRedlichKwong(Tc, Pc, w)\n",
    "\n",
    "model.pressure([2.0], 2.5, 290)"
   ]
  },
  {
   "cell_type": "markdown",
   "metadata": {},
   "source": [
    "### PengRobinson76 EoS"
   ]
  },
  {
   "cell_type": "code",
   "execution_count": 2,
   "metadata": {},
   "outputs": [
    {
     "data": {
      "text/plain": [
       "18.447831480414184"
      ]
     },
     "execution_count": 2,
     "metadata": {},
     "output_type": "execute_result"
    }
   ],
   "source": [
    "# Import the model from the library\n",
    "from yaeos import PengRobinson76\n",
    "\n",
    "# We will use the chemicals library to get the critical properties of methane\n",
    "import chemicals\n",
    "\n",
    "chem = chemicals.CAS_from_any(\"methane\")\n",
    "\n",
    "# All properties must be defined as lists, since the library can \n",
    "# handle multiple components\n",
    "Tc = [chemicals.critical.Tc(chem)]\n",
    "Pc = [chemicals.critical.Pc(chem)/1e5]\n",
    "w =  [chemicals.acentric.omega(chem)]\n",
    "\n",
    "model = PengRobinson76(Tc, Pc, w)\n",
    "\n",
    "model.pressure([2.0], 2.5, 290)"
   ]
  },
  {
   "cell_type": "markdown",
   "metadata": {},
   "source": [
    "### PengRobinson78"
   ]
  },
  {
   "cell_type": "code",
   "execution_count": 1,
   "metadata": {},
   "outputs": [
    {
     "data": {
      "text/plain": [
       "18.44783147380076"
      ]
     },
     "execution_count": 1,
     "metadata": {},
     "output_type": "execute_result"
    }
   ],
   "source": [
    "# Import the model from the library\n",
    "from yaeos import PengRobinson78\n",
    "\n",
    "# We will use the chemicals library to get the critical properties of methane\n",
    "import chemicals\n",
    "\n",
    "chem = chemicals.CAS_from_any(\"methane\")\n",
    "\n",
    "# All properties must be defined as lists, since the library can \n",
    "# handle multiple components\n",
    "Tc = [chemicals.critical.Tc(chem)]\n",
    "Pc = [chemicals.critical.Pc(chem)/1e5]\n",
    "w =  [chemicals.acentric.omega(chem)]\n",
    "\n",
    "model = PengRobinson78(Tc, Pc, w)\n",
    "\n",
    "model.pressure([2.0], 2.5, 290)"
   ]
  },
  {
   "cell_type": "markdown",
   "metadata": {},
   "source": [
    "### RKPR"
   ]
  },
  {
   "cell_type": "code",
   "execution_count": 1,
   "metadata": {},
   "outputs": [
    {
     "data": {
      "text/plain": [
       "18.44783147380076"
      ]
     },
     "execution_count": 1,
     "metadata": {},
     "output_type": "execute_result"
    }
   ],
   "source": [
    "# Import the model from the library\n",
    "from yaeos import PengRobinson78\n",
    "from yaeos.constants import R\n",
    "\n",
    "# We will use the chemicals library to get the critical properties of methane\n",
    "import chemicals\n",
    "\n",
    "chem = chemicals.CAS_from_any(\"methane\")\n",
    "\n",
    "# All properties must be defined as lists, since the library can \n",
    "# handle multiple components\n",
    "Tc = [chemicals.critical.Tc(chem)]\n",
    "Pc = [chemicals.critical.Pc(chem)/1e5]\n",
    "Vc = [chemicals.critical.Vc(chem)]\n",
    "w =  [chemicals.acentric.omega(chem)]\n",
    "\n",
    "Zc = Pc[0]*Vc[0]/(R*Tc[0])\n",
    "\n",
    "model = PengRobinson78(Tc, Pc, w)\n",
    "\n",
    "model.pressure([2.0], 2.5, 290)"
   ]
  },
  {
   "cell_type": "markdown",
   "metadata": {},
   "source": [
    "## Excess Gibbs Models\n",
    "\n",
    "Excess Gibbs models are ussually well suited for liquid phases at atmospheric\n",
    "pressure. They are important when modelling liquid-liquid equilibria.\n",
    "\n",
    "In `yaeos` there are two models implemented.\n",
    "\n",
    "- `NRTL`: Non-Random-Two-Liquid\n",
    "- `UNIFACVLE`: "
   ]
  },
  {
   "cell_type": "markdown",
   "metadata": {},
   "source": [
    "### NRTL\n",
    "The NRTL model has three parameters, which are asymetric."
   ]
  },
  {
   "cell_type": "code",
   "execution_count": null,
   "metadata": {},
   "outputs": [],
   "source": []
  },
  {
   "cell_type": "markdown",
   "metadata": {},
   "source": [
    "### UNIFAC\n",
    "\n",
    "There are multiple UNIFAC models, in `yaeos` there is implemented the original\n",
    "`UNIFAC VLE` model."
   ]
  },
  {
   "cell_type": "code",
   "execution_count": 2,
   "metadata": {},
   "outputs": [
    {
     "ename": "TypeError",
     "evalue": "get_groups() takes 1 positional argument but 2 were given",
     "output_type": "error",
     "traceback": [
      "\u001b[0;31m---------------------------------------------------------------------------\u001b[0m",
      "\u001b[0;31mTypeError\u001b[0m                                 Traceback (most recent call last)",
      "Cell \u001b[0;32mIn[2], line 13\u001b[0m\n\u001b[1;32m      9\u001b[0m     \u001b[38;5;28;01mreturn\u001b[39;00m groups\n\u001b[1;32m     12\u001b[0m molecules \u001b[38;5;241m=\u001b[39m [\u001b[38;5;124m\"\u001b[39m\u001b[38;5;124methanol\u001b[39m\u001b[38;5;124m\"\u001b[39m, \u001b[38;5;124m\"\u001b[39m\u001b[38;5;124mwater\u001b[39m\u001b[38;5;124m\"\u001b[39m]\n\u001b[0;32m---> 13\u001b[0m groups \u001b[38;5;241m=\u001b[39m \u001b[43mget_groups\u001b[49m\u001b[43m(\u001b[49m\u001b[43mmolecules\u001b[49m\u001b[43m)\u001b[49m\n",
      "Cell \u001b[0;32mIn[2], line 7\u001b[0m, in \u001b[0;36mget_groups\u001b[0;34m(molecules)\u001b[0m\n\u001b[1;32m      5\u001b[0m groups \u001b[38;5;241m=\u001b[39m []\n\u001b[1;32m      6\u001b[0m \u001b[38;5;28;01mfor\u001b[39;00m molecule \u001b[38;5;129;01min\u001b[39;00m molecules:\n\u001b[0;32m----> 7\u001b[0m     grp \u001b[38;5;241m=\u001b[39m \u001b[43mget_groups\u001b[49m\u001b[43m(\u001b[49m\u001b[43munifac\u001b[49m\u001b[43m,\u001b[49m\u001b[43m \u001b[49m\u001b[43mmolecule\u001b[49m\u001b[43m)\u001b[49m\n\u001b[1;32m      8\u001b[0m     groups\u001b[38;5;241m.\u001b[39mappend(writers\u001b[38;5;241m.\u001b[39mto_thermo(grp\u001b[38;5;241m.\u001b[39msubgroups, unifac))\n\u001b[1;32m      9\u001b[0m \u001b[38;5;28;01mreturn\u001b[39;00m groups\n",
      "\u001b[0;31mTypeError\u001b[0m: get_groups() takes 1 positional argument but 2 were given"
     ]
    }
   ],
   "source": [
    "# We will use the ugropy library to get the UNIFAC groups of ethanol and water\n",
    "from ugropy import get_groups, unifac, writers\n",
    "\n",
    "def get_groups(molecules):\n",
    "    groups = []\n",
    "    for molecule in molecules:\n",
    "        grp = get_groups(unifac, molecule)\n",
    "        groups.append(writers.to_thermo(grp.subgroups, unifac))\n",
    "    return groups\n",
    "\n",
    "\n",
    "molecules = [\"ethanol\", \"water\"]\n",
    "groups = get_groups(molecules)"
   ]
  },
  {
   "cell_type": "code",
   "execution_count": 3,
   "metadata": {},
   "outputs": [],
   "source": [
    "from yaeos.models.excess_gibbs import UNIFACVLE"
   ]
  },
  {
   "cell_type": "markdown",
   "metadata": {},
   "source": []
  },
  {
   "cell_type": "code",
   "execution_count": 9,
   "metadata": {},
   "outputs": [
    {
     "data": {
      "text/plain": [
       "[{1: 1, 2: 1, 14: 1}, {16: 1}]"
      ]
     },
     "execution_count": 9,
     "metadata": {},
     "output_type": "execute_result"
    }
   ],
   "source": [
    "model = UNIFACVLE(groups)\n",
    "\n",
    "groups"
   ]
  },
  {
   "cell_type": "code",
   "execution_count": 10,
   "metadata": {},
   "outputs": [
    {
     "data": {
      "text/plain": [
       "array([0.18534142, 0.40331396])"
      ]
     },
     "execution_count": 10,
     "metadata": {},
     "output_type": "execute_result"
    }
   ],
   "source": [
    "model.ln_gamma([0.5, 0.5], 298.0)"
   ]
  }
 ],
 "metadata": {
  "kernelspec": {
   "display_name": "thermo",
   "language": "python",
   "name": "python3"
  },
  "language_info": {
   "codemirror_mode": {
    "name": "ipython",
    "version": 3
   },
   "file_extension": ".py",
   "mimetype": "text/x-python",
   "name": "python",
   "nbconvert_exporter": "python",
   "pygments_lexer": "ipython3",
   "version": "3.12.4"
  }
 },
 "nbformat": 4,
 "nbformat_minor": 2
}
