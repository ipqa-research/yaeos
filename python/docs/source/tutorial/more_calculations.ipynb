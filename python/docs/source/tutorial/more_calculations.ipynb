{
 "cells": [
  {
   "cell_type": "markdown",
   "metadata": {},
   "source": [
    "# More calculations\n",
    "\n",
    "By now we have been only calculating properties \"on point\", but we can do\n",
    "more than that with `yaeos`. Here we have a few examples:"
   ]
  },
  {
   "cell_type": "markdown",
   "metadata": {},
   "source": [
    "## Calculating an isotherm\n",
    "\n",
    "Let's create a plot Pressure vs Volume at a given temperature (250 K) for a\n",
    "pure component. Let's use carbon dioxide."
   ]
  },
  {
   "cell_type": "code",
   "execution_count": 3,
   "metadata": {},
   "outputs": [
    {
     "data": {
      "text/plain": [
       "Text(0, 0.5, 'Pressure [bar]')"
      ]
     },
     "execution_count": 3,
     "metadata": {},
     "output_type": "execute_result"
    },
    {
     "data": {
      "image/png": "[encoded data removed]",
      "text/plain": [
       "<Figure size 640x480 with 1 Axes>"
      ]
     },
     "metadata": {},
     "output_type": "display_data"
    }
   ],
   "source": [
    "from yaeos import SoaveRedlichKwong\n",
    "import numpy as np\n",
    "import matplotlib.pyplot as plt\n",
    "\n",
    "\n",
    "n = [1.0]           # mole number of CO2 [mol]\n",
    "Tc = [304.2]        # critical temperature of CO2 [K]\n",
    "Pc = [73.8]         # critical pressure of CO2 [bar]\n",
    "w = [0.2236]        # acentric factor of CO2 [-]\n",
    "\n",
    "# Instantiate a Soave-Redlich-Kwong equation of state model\n",
    "model = SoaveRedlichKwong(Tc, Pc, w)\n",
    "\n",
    "# Calculate isotherm at 250 K\n",
    "t = 250  # K\n",
    "\n",
    "pressures = np.linspace(5, 30, 200) # pressures list\n",
    "volumes = [] # list to store the volumes\n",
    "\n",
    "\n",
    "for p in pressures:\n",
    "    # Calculate volume for each pressure\n",
    "    volume = model.volume(n, p, t, root=\"stable\")\n",
    "    volumes.append(volume)\n",
    "\n",
    "# Make plot\n",
    "plt.plot(volumes, pressures)\n",
    "plt.xlabel(\"Volume [L]\")\n",
    "plt.ylabel(\"Pressure [bar]\")\n"
   ]
  },
  {
   "cell_type": "markdown",
   "metadata": {},
   "source": [
    "# Calculate a saturation pressure\n",
    "## Pure compound\n",
    "\n",
    "In the previous example we obtained an isotherm for carbon dioxide at 250 K. We\n",
    "can check in the plot that the saturation pressure is around 18 bar. Let's\n",
    "calculate the previous saturation pressure using `yaeos` and the instantiated\n",
    "`model`.\n"
   ]
  },
  {
   "cell_type": "code",
   "execution_count": 4,
   "metadata": {},
   "outputs": [
    {
     "name": "stdout",
     "output_type": "stream",
     "text": [
      "{'x': array([1.]), 'y': array([1.00001087]), 'Vx': 0.046689498895265885, 'Vy': 0.953487212716271, 'T': 250.0, 'P': 17.916706378791627, 'beta': 0.0}\n"
     ]
    }
   ],
   "source": [
    "sat_point = model.saturation_pressure(z=[1.0], temperature=250.0)\n",
    "\n",
    "print(sat_point)"
   ]
  },
  {
   "cell_type": "markdown",
   "metadata": {},
   "source": [
    "There we obtained a Python dictionary with the result of the saturation\n",
    "pressure calculation. In this example we have a pure compound (CO2), so we are\n",
    "only interested in the `P` result (the saturation pressure)."
   ]
  },
  {
   "cell_type": "code",
   "execution_count": 5,
   "metadata": {},
   "outputs": [
    {
     "name": "stdout",
     "output_type": "stream",
     "text": [
      "17.916706378791627  bar\n"
     ]
    }
   ],
   "source": [
    "print(sat_point[\"P\"], \" bar\")"
   ]
  },
  {
   "cell_type": "markdown",
   "metadata": {},
   "source": [
    "The DIPPR correlated value for the saturation pressure of CO2 at 250 K is 17.88\n",
    "bar, so SoaveRedlichKwong is doing a good job in this case."
   ]
  },
  {
   "cell_type": "markdown",
   "metadata": {},
   "source": [
    "## Mixture\n",
    "\n",
    "Of course, in thermodynamics there is not only pure compounds, we can also\n",
    "use `yaeos` to calculate the saturation pressure of a mixture. Let's calculate\n",
    "the saturation pressure of a mixture of 50% CO2 and 50% n-butane at 250 K. But\n",
    "now let's use `PengRobsinson78`."
   ]
  },
  {
   "cell_type": "code",
   "execution_count": 6,
   "metadata": {},
   "outputs": [],
   "source": [
    "from yaeos import PengRobinson78\n",
    "\n",
    "# Pure compounds properties\n",
    "n = [0.5, 0.5]                # mole number of CO2 and n-butane [mol]\n",
    "Tc = [304.2, 425.1]           # critical temperature of CO2 and n-butane [K]\n",
    "Pc = [73.8, 38.0]             # critical pressure of CO2 and n-butane [bar]\n",
    "w = [0.2236, 0.200164]        # acentric factor of CO2 and n-butane [-]\n",
    "\n",
    "\n",
    "model = PengRobinson78(Tc, Pc, w)\n",
    "\n",
    "\n",
    "# Calculate bubble point pressure\n",
    "bubble_point = model.saturation_pressure(z=n, temperature=250.0, kind=\"bubble\")\n",
    "\n",
    "# Calculate dew point pressure\n",
    "dew_point = model.saturation_pressure(z=n, temperature=250.0, kind=\"dew\")"
   ]
  },
  {
   "cell_type": "markdown",
   "metadata": {},
   "source": [
    "Let's check our results:"
   ]
  },
  {
   "cell_type": "code",
   "execution_count": 7,
   "metadata": {},
   "outputs": [
    {
     "data": {
      "text/plain": [
       "{'x': array([0.5, 0.5]),\n",
       " 'y': array([0.96800306, 0.03199694]),\n",
       " 'Vx': 0.06509074642358811,\n",
       " 'Vy': 2.296393458679319,\n",
       " 'T': 250.0,\n",
       " 'P': 8.269690420846779,\n",
       " 'beta': 0.0}"
      ]
     },
     "execution_count": 7,
     "metadata": {},
     "output_type": "execute_result"
    }
   ],
   "source": [
    "bubble_point"
   ]
  },
  {
   "cell_type": "code",
   "execution_count": 8,
   "metadata": {},
   "outputs": [
    {
     "data": {
      "text/plain": [
       "{'x': array([0.02630095, 0.97369904]),\n",
       " 'y': array([0.5, 0.5]),\n",
       " 'Vx': 0.0869521889708558,\n",
       " 'Vy': 26.111737262892674,\n",
       " 'T': 250.0,\n",
       " 'P': 0.7816128221171396,\n",
       " 'beta': 1.0}"
      ]
     },
     "execution_count": 8,
     "metadata": {},
     "output_type": "execute_result"
    }
   ],
   "source": [
    "dew_point"
   ]
  }
 ],
 "metadata": {
  "kernelspec": {
   "display_name": "yaeos",
   "language": "python",
   "name": "python3"
  },
  "language_info": {
   "codemirror_mode": {
    "name": "ipython",
    "version": 3
   },
   "file_extension": ".py",
   "mimetype": "text/x-python",
   "name": "python",
   "nbconvert_exporter": "python",
   "pygments_lexer": "ipython3",
   "version": "3.10.12"
  }
 },
 "nbformat": 4,
 "nbformat_minor": 2
}
