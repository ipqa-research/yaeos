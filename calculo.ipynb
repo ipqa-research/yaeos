{
 "cells": [
  {
   "cell_type": "code",
   "execution_count": 1,
   "metadata": {},
   "outputs": [],
   "source": [
    "import numpy as np"
   ]
  },
  {
   "cell_type": "code",
   "execution_count": 2,
   "metadata": {},
   "outputs": [],
   "source": [
    "# hay que dividir por este valor de R para obtener los valores de uij/R\n",
    "R = 8.31446261815324 \n",
    "\n",
    "\n",
    "# uij matriz 20 °C ajustada\n",
    "uij_20 = np.array(\n",
    "    [\n",
    "        [-3611.39505824, -3205.2665743 ,  -417.67395243],\n",
    "        [-3205.2665743 , -2843.15487649, -1108.79975759],\n",
    "        [ -417.67395243, -1108.79975759,   395.68052466],\n",
    "    ],\n",
    ")\n",
    "\n",
    "# uij matriz 30 °C ajustada\n",
    "uij_30 = np.array(\n",
    "    [\n",
    "        [-3606.48333171, -3292.63186363,  -452.62895214],\n",
    "        [-3292.63186363, -3112.55797379, -1172.42048319],\n",
    "        [ -452.62895214, -1172.42048319,   375.36334693],\n",
    "    ],\n",
    ")"
   ]
  },
  {
   "cell_type": "code",
   "execution_count": 3,
   "metadata": {},
   "outputs": [],
   "source": [
    "duij20 = np.zeros((3, 3))\n",
    "\n",
    "for i in range(3):\n",
    "    for j in range(3):\n",
    "        duij20[i, j] = -(uij_20[i, j] - uij_20[j, j]) / R\n",
    "        \n",
    "duij30 = np.zeros((3, 3))\n",
    "\n",
    "for i in range(3):\n",
    "    for j in range(3):\n",
    "        duij30[i, j] = -(uij_30[i, j] - uij_30[j, j]) / R"
   ]
  },
  {
   "cell_type": "code",
   "execution_count": 5,
   "metadata": {},
   "outputs": [
    {
     "name": "stdout",
     "output_type": "stream",
     "text": [
      "[[-0.0, 21.657910812761273, 99.58458376639004], [-37.74765519959855, -0.0, 186.155606345583], [-379.32149369269956, -233.34490510114676, -0.0]]\n"
     ]
    }
   ],
   "source": [
    "print(duij30.tolist())"
   ]
  }
 ],
 "metadata": {
  "kernelspec": {
   "display_name": "yaeos",
   "language": "python",
   "name": "python3"
  },
  "language_info": {
   "codemirror_mode": {
    "name": "ipython",
    "version": 3
   },
   "file_extension": ".py",
   "mimetype": "text/x-python",
   "name": "python",
   "nbconvert_exporter": "python",
   "pygments_lexer": "ipython3",
   "version": "3.10.12"
  }
 },
 "nbformat": 4,
 "nbformat_minor": 2
}
