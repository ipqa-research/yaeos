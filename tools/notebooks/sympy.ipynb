{
 "cells": [
  {
   "cell_type": "code",
   "execution_count": 1,
   "metadata": {},
   "outputs": [],
   "source": [
    "import sympy as sp"
   ]
  },
  {
   "cell_type": "code",
   "execution_count": 2,
   "metadata": {},
   "outputs": [
    {
     "data": {
      "text/latex": [
       "$\\displaystyle - \\frac{K \\beta z}{\\left(\\beta \\left(K - 1\\right) + 1\\right)^{2}} + \\frac{z}{\\beta \\left(K - 1\\right) + 1}$"
      ],
      "text/plain": [
       "-K*\\beta*z/(\\beta*(K - 1) + 1)**2 + z/(\\beta*(K - 1) + 1)"
      ]
     },
     "execution_count": 2,
     "metadata": {},
     "output_type": "execute_result"
    }
   ],
   "source": [
    "z, beta, K = sp.symbols(r\"z \\beta K\")\n",
    "\n",
    "x = z / (beta * (K - 1) + 1)\n",
    "y = K * x\n",
    "\n",
    "dxdk = sp.diff(x, K)\n",
    "sp.diff(y, K)"
   ]
  },
  {
   "cell_type": "code",
   "execution_count": 3,
   "metadata": {},
   "outputs": [
    {
     "data": {
      "text/latex": [
       "$\\displaystyle \\frac{v_{x}}{v_{x} - v_{y}}$"
      ],
      "text/plain": [
       "v_x/(v_x - v_y)"
      ]
     },
     "execution_count": 3,
     "metadata": {},
     "output_type": "execute_result"
    }
   ],
   "source": [
    "vx, vy, v = sp.symbols(r\"v_x, v_y, v\")\n",
    "\n",
    "v = beta * vy + (1-beta)*vx\n",
    "\n",
    "sp.solve(v, beta)[0]"
   ]
  },
  {
   "cell_type": "code",
   "execution_count": 16,
   "metadata": {},
   "outputs": [
    {
     "name": "stdout",
     "output_type": "stream",
     "text": [
      "      -\\beta*v_y/(\\beta - 1)**2 + v_y/(\\beta - 1)\n"
     ]
    }
   ],
   "source": [
    "sp.print_fcode(sp.diff(sp.solve(v, vx)[0], beta))"
   ]
  },
  {
   "cell_type": "code",
   "execution_count": 15,
   "metadata": {},
   "outputs": [
    {
     "data": {
      "text/latex": [
       "$\\displaystyle \\frac{v_{x}}{\\beta^{2}}$"
      ],
      "text/plain": [
       "v_x/\\beta**2"
      ]
     },
     "execution_count": 15,
     "metadata": {},
     "output_type": "execute_result"
    }
   ],
   "source": [
    "sp.diff(sp.solve(v, vy)[0], beta)"
   ]
  },
  {
   "cell_type": "code",
   "execution_count": 14,
   "metadata": {},
   "outputs": [
    {
     "name": "stdout",
     "output_type": "stream",
     "text": [
      "      -\\beta*z*(K - 1)/(\\beta*(K - 1) + 1)**2 + z/(\\beta*(K - 1) + 1)\n"
     ]
    }
   ],
   "source": [
    "sp.print_fcode(sp.diff(z * (K - 1)/(1 + beta*(K-1)), K))"
   ]
  },
  {
   "cell_type": "code",
   "execution_count": 24,
   "metadata": {},
   "outputs": [],
   "source": [
    "c1, c2, c3, Tr = sp.symbols(\"c1 c2 c3 Tr\")\n",
    "\n",
    "# sqrt_Tr = sp.Function(\"(1-\\sqrt{Tr})\")(Tr) # 1 - sp.sqrt(Tr)\n",
    "\n",
    "sqrt_Tr = 1 - sp.sqrt(Tr)\n",
    "\n",
    "a = (1 + c1 * (sqrt_Tr) + c2 * (sqrt_Tr) + c3 * (sqrt_Tr))**2\n",
    "dadt = sp.diff(a, Tr)\n",
    "dadt2 = sp.diff(dadt, Tr)"
   ]
  },
  {
   "cell_type": "code",
   "execution_count": 8,
   "metadata": {},
   "outputs": [
    {
     "name": "stdout",
     "output_type": "stream",
     "text": [
      "      -k*(3/(Tr + 2))**k/(Tr + 2)\n",
      "      k*(3/(Tr + 2))**k*(k + 1)/(Tr + 2)**2\n"
     ]
    }
   ],
   "source": [
    "k, Tr = sp.symbols(\"k Tr\")\n",
    "a = (3/(2 + Tr))**k\n",
    "\n",
    "dadtr = sp.diff(a, Tr).simplify()\n",
    "dadtr2 = sp.diff(dadtr, Tr).simplify()\n",
    "\n",
    "sp.print_fcode(dadtr.simplify())\n",
    "sp.print_fcode(dadtr2.simplify())"
   ]
  },
  {
   "cell_type": "code",
   "execution_count": 25,
   "metadata": {},
   "outputs": [
    {
     "name": "stdout",
     "output_type": "stream",
     "text": [
      "      (c1 + c2 + c3)*(c1*(sqrt(Tr) - 1) + c2*(sqrt(Tr) - 1) + c3*(sqrt(\n",
      "     @ Tr) - 1) - 1)/sqrt(Tr)\n",
      "      (1.0d0/2.0d0)*(c1**2 + 2*c1*c2 + 2*c1*c3 + c1 + c2**2 + 2*c2*c3 +\n",
      "     @ c2 + c3**2 + c3)/Tr**(3.0d0/2.0d0)\n"
     ]
    }
   ],
   "source": [
    "sp.print_fcode(dadt.simplify())\n",
    "sp.print_fcode(dadt2.simplify())"
   ]
  },
  {
   "cell_type": "markdown",
   "metadata": {},
   "source": [
    "# Combining rules"
   ]
  },
  {
   "cell_type": "code",
   "execution_count": 28,
   "metadata": {},
   "outputs": [],
   "source": [
    "i, j = sp.symbols(\"i j\",cls=sp.Idx)\n",
    "k = sp.IndexedBase(\"k\")\n",
    "T = sp.symbols(\"T\")\n",
    "ai = sp.Function(\"a_i\")(T)\n",
    "aj = sp.Function(\"a_j\")(T)\n",
    "\n",
    "daijdt = sp.diff(sp.sqrt(ai*aj) * (1 - k[i,j]), T).simplify()\n",
    "daijdt2 = sp.diff(daijdt, T)#.simplify()"
   ]
  },
  {
   "cell_type": "code",
   "execution_count": 29,
   "metadata": {},
   "outputs": [
    {
     "data": {
      "text/latex": [
       "$\\displaystyle - \\frac{\\sqrt{a_{i}{\\left(T \\right)} a_{j}{\\left(T \\right)}} \\left(\\frac{a_{i}{\\left(T \\right)} \\frac{d}{d T} a_{j}{\\left(T \\right)}}{2} + \\frac{a_{j}{\\left(T \\right)} \\frac{d}{d T} a_{i}{\\left(T \\right)}}{2}\\right) \\left(a_{i}{\\left(T \\right)} \\frac{d}{d T} a_{j}{\\left(T \\right)} + a_{j}{\\left(T \\right)} \\frac{d}{d T} a_{i}{\\left(T \\right)}\\right) \\left({k}_{i,j} - 1\\right)}{2 a_{i}^{2}{\\left(T \\right)} a_{j}^{2}{\\left(T \\right)}} + \\frac{\\sqrt{a_{i}{\\left(T \\right)} a_{j}{\\left(T \\right)}} \\left(a_{i}{\\left(T \\right)} \\frac{d}{d T} a_{j}{\\left(T \\right)} + a_{j}{\\left(T \\right)} \\frac{d}{d T} a_{i}{\\left(T \\right)}\\right) \\left({k}_{i,j} - 1\\right) \\frac{d}{d T} a_{j}{\\left(T \\right)}}{2 a_{i}{\\left(T \\right)} a_{j}^{2}{\\left(T \\right)}} + \\frac{\\sqrt{a_{i}{\\left(T \\right)} a_{j}{\\left(T \\right)}} \\left(a_{i}{\\left(T \\right)} \\frac{d}{d T} a_{j}{\\left(T \\right)} + a_{j}{\\left(T \\right)} \\frac{d}{d T} a_{i}{\\left(T \\right)}\\right) \\left({k}_{i,j} - 1\\right) \\frac{d}{d T} a_{i}{\\left(T \\right)}}{2 a_{i}^{2}{\\left(T \\right)} a_{j}{\\left(T \\right)}} - \\frac{\\sqrt{a_{i}{\\left(T \\right)} a_{j}{\\left(T \\right)}} \\left({k}_{i,j} - 1\\right) \\left(a_{i}{\\left(T \\right)} \\frac{d^{2}}{d T^{2}} a_{j}{\\left(T \\right)} + a_{j}{\\left(T \\right)} \\frac{d^{2}}{d T^{2}} a_{i}{\\left(T \\right)} + 2 \\frac{d}{d T} a_{i}{\\left(T \\right)} \\frac{d}{d T} a_{j}{\\left(T \\right)}\\right)}{2 a_{i}{\\left(T \\right)} a_{j}{\\left(T \\right)}}$"
      ],
      "text/plain": [
       "-sqrt(a_i(T)*a_j(T))*(a_i(T)*Derivative(a_j(T), T)/2 + a_j(T)*Derivative(a_i(T), T)/2)*(a_i(T)*Derivative(a_j(T), T) + a_j(T)*Derivative(a_i(T), T))*(k[i, j] - 1)/(2*a_i(T)**2*a_j(T)**2) + sqrt(a_i(T)*a_j(T))*(a_i(T)*Derivative(a_j(T), T) + a_j(T)*Derivative(a_i(T), T))*(k[i, j] - 1)*Derivative(a_j(T), T)/(2*a_i(T)*a_j(T)**2) + sqrt(a_i(T)*a_j(T))*(a_i(T)*Derivative(a_j(T), T) + a_j(T)*Derivative(a_i(T), T))*(k[i, j] - 1)*Derivative(a_i(T), T)/(2*a_i(T)**2*a_j(T)) - sqrt(a_i(T)*a_j(T))*(k[i, j] - 1)*(a_i(T)*Derivative(a_j(T), (T, 2)) + a_j(T)*Derivative(a_i(T), (T, 2)) + 2*Derivative(a_i(T), T)*Derivative(a_j(T), T))/(2*a_i(T)*a_j(T))"
      ]
     },
     "execution_count": 29,
     "metadata": {},
     "output_type": "execute_result"
    }
   ],
   "source": [
    "daijdt2"
   ]
  },
  {
   "cell_type": "code",
   "execution_count": 12,
   "metadata": {},
   "outputs": [
    {
     "data": {
      "text/latex": [
       "$\\displaystyle - \\frac{{n}_{i} \\sum_{i=1}^{N} 1}{\\left(\\sum_{i=1}^{N} {n}_{i}\\right)^{2}} + \\frac{1}{\\sum_{i=1}^{N} {n}_{i}}$"
      ],
      "text/plain": [
       "-n[i]*Sum(1, (i, 1, N))/Sum(n[i], (i, 1, N))**2 + 1/Sum(n[i], (i, 1, N))"
      ]
     },
     "execution_count": 12,
     "metadata": {},
     "output_type": "execute_result"
    }
   ],
   "source": [
    "i, N = sp.symbols('i N', integer=True)\n",
    "n = sp.IndexedBase(\"n\", shape=(N))\n",
    "\n",
    "zi = n[i]/sp.Sum(n[i], (i, 1, N))\n",
    "\n",
    "sp.diff(zi, n[i])"
   ]
  },
  {
   "cell_type": "markdown",
   "metadata": {},
   "source": [
    "# Huron-Vidal -like"
   ]
  },
  {
   "cell_type": "code",
   "execution_count": 52,
   "metadata": {},
   "outputs": [
    {
     "data": {
      "text/latex": [
       "$\\displaystyle \\sum_{i=1}^{N} \\frac{a{\\left(T \\right)} {n}_{i}}{{b}_{i}} + \\frac{G^{E}{\\left(n{\\left({n}_{i} \\right)},T \\right)} + \\sum_{i=1}^{N} R T \\log{\\left(\\frac{B{\\left(n{\\left({n}_{i} \\right)} \\right)}}{n{\\left({n}_{i} \\right)} {b}_{i}} \\right)} {n}_{i}}{q}$"
      ],
      "text/plain": [
       "Sum(a(T)*n[i]/b[i], (i, 1, N)) + (G^E(n(n[i]), T) + Sum(R*T*log(B(n(n[i]))/(n(n[i])*b[i]))*n[i], (i, 1, N)))/q"
      ]
     },
     "execution_count": 52,
     "metadata": {},
     "output_type": "execute_result"
    }
   ],
   "source": [
    "import sympy as sp\n",
    "def sum_i(exp):\n",
    "    N = sp.Idx(\"N\")\n",
    "    return sp.Sum(exp, (i, 1, N))\n",
    "\n",
    "q, R, T = sp.symbols(\"q R T\")\n",
    "ni, bi = sp.symbols(\"n b\", cls=sp.IndexedBase)\n",
    "i = sp.Idx(\"i\")\n",
    "j = sp.Idx(\"j\")\n",
    "ni = ni[i]\n",
    "bi = bi[i]\n",
    "\n",
    "i = sp.Idx(\"i\")\n",
    "a = sp.Function(\"a\")(T)\n",
    "n =  sp.Function(\"n\")(ni)\n",
    "B = sp.Function(\"B\")(n)\n",
    "\n",
    "ge = sp.Function(r\"G^E\")(n, T)\n",
    "\n",
    "DB = sum_i(ni * a/bi) + 1/q * (ge + sum_i(ni * R*T*sp.log(B/(n*bi))))\n",
    "DB"
   ]
  },
  {
   "cell_type": "code",
   "execution_count": 53,
   "metadata": {},
   "outputs": [
    {
     "data": {
      "text/latex": [
       "$\\displaystyle \\log{\\left(\\frac{B{\\left({n}_{1},{n}_{2},{n}_{3} \\right)}}{\\left({n}_{1} + {n}_{2} + {n}_{3}\\right) {b}_{1}} \\right)} {n}_{1} + \\log{\\left(\\frac{B{\\left({n}_{1},{n}_{2},{n}_{3} \\right)}}{\\left({n}_{1} + {n}_{2} + {n}_{3}\\right) {b}_{2}} \\right)} {n}_{2} + \\log{\\left(\\frac{B{\\left({n}_{1},{n}_{2},{n}_{3} \\right)}}{\\left({n}_{1} + {n}_{2} + {n}_{3}\\right) {b}_{3}} \\right)} {n}_{3}$"
      ],
      "text/plain": [
       "log(B(n[1], n[2], n[3])/((n[1] + n[2] + n[3])*b[1]))*n[1] + log(B(n[1], n[2], n[3])/((n[1] + n[2] + n[3])*b[2]))*n[2] + log(B(n[1], n[2], n[3])/((n[1] + n[2] + n[3])*b[3]))*n[3]"
      ]
     },
     "execution_count": 53,
     "metadata": {},
     "output_type": "execute_result"
    }
   ],
   "source": [
    "\n",
    "n = sp.symbols(\"N\")\n",
    "ni, bi = sp.symbols(\"n b\", cls=sp.IndexedBase)\n",
    "n1, b1 = ni[1], bi[1]\n",
    "n2, b2 = ni[2], bi[2]\n",
    "n3, b3 = ni[3], bi[3]\n",
    "\n",
    "B = sp.Function(\"B\")(n1, n2, n3)\n",
    "\n",
    "lnB = (\n",
    "    n1 * sp.log(B/((n1 + n2 + n3)*b1)) + \n",
    "    n2 * sp.log(B/((n1 + n2 + n3)*b2)) +\n",
    "    n3 * sp.log(B/((n1 + n2 + n3)*b3))\n",
    ")\n",
    "dD1 = sp.diff(lnB, n1).simplify()\n",
    "dD12 = sp.diff(dD1, n2).simplify()\n",
    "\n",
    "lnB"
   ]
  },
  {
   "cell_type": "code",
   "execution_count": 51,
   "metadata": {},
   "outputs": [
    {
     "data": {
      "text/latex": [
       "$\\displaystyle \\frac{B{\\left({n}_{1},{n}_{2},{n}_{3} \\right)} \\log{\\left(\\frac{B{\\left({n}_{1},{n}_{2},{n}_{3} \\right)}}{\\left({n}_{1} + {n}_{2} + {n}_{3}\\right) {b}_{1}} \\right)} - B{\\left({n}_{1},{n}_{2},{n}_{3} \\right)} + \\frac{\\partial}{\\partial {n}_{1}} B{\\left({n}_{1},{n}_{2},{n}_{3} \\right)} {n}_{1} + \\frac{\\partial}{\\partial {n}_{1}} B{\\left({n}_{1},{n}_{2},{n}_{3} \\right)} {n}_{2} + \\frac{\\partial}{\\partial {n}_{1}} B{\\left({n}_{1},{n}_{2},{n}_{3} \\right)} {n}_{3}}{B{\\left({n}_{1},{n}_{2},{n}_{3} \\right)}}$"
      ],
      "text/plain": [
       "(B(n[1], n[2], n[3])*log(B(n[1], n[2], n[3])/((n[1] + n[2] + n[3])*b[1])) - B(n[1], n[2], n[3]) + Derivative(B(n[1], n[2], n[3]), n[1])*n[1] + Derivative(B(n[1], n[2], n[3]), n[1])*n[2] + Derivative(B(n[1], n[2], n[3]), n[1])*n[3])/B(n[1], n[2], n[3])"
      ]
     },
     "execution_count": 51,
     "metadata": {},
     "output_type": "execute_result"
    }
   ],
   "source": [
    "lnB.diff(n1).simplify()#.diff(n2).simplify()"
   ]
  },
  {
   "cell_type": "code",
   "execution_count": 28,
   "metadata": {},
   "outputs": [
    {
     "data": {
      "text/latex": [
       "$\\displaystyle \\sum_{i=1}^{N} \\begin{cases} \\frac{\\left(\\log{\\left(\\frac{B{\\left({n}_{j} \\right)}}{{b}_{j} \\sum_{i=1}^{N} {n}_{i}} \\right)} - 1 + \\frac{\\frac{\\partial}{\\partial {n}_{j}} B{\\left({n}_{j} \\right)} {n}_{j}}{B{\\left({n}_{j} \\right)}}\\right) {n}_{j}}{\\sum_{i=1}^{N} {n}_{i}} & \\text{for}\\: N \\geq j \\wedge j \\geq 1 \\\\0 & \\text{otherwise} \\end{cases}$"
      ],
      "text/plain": [
       "Sum(Piecewise(((log(B(n[j])/(b[j]*Sum(n[i], (i, 1, N)))) - 1 + Derivative(B(n[j]), n[j])*n[j]/B(n[j]))*n[j]/Sum(n[i], (i, 1, N)), (j >= 1) & (N >= j)), (0, True)), (i, 1, N))"
      ]
     },
     "execution_count": 28,
     "metadata": {},
     "output_type": "execute_result"
    }
   ],
   "source": [
    "B=sp.Function(\"B\")(ni[i])\n",
    "logB_nbi = sum_i(ni[i] * sp.log(B/(sum_i(ni[i]) * bi[i])))\n",
    "\n",
    "logB_nbi.diff(ni[j]).simplify()"
   ]
  },
  {
   "cell_type": "code",
   "execution_count": 50,
   "metadata": {},
   "outputs": [
    {
     "data": {
      "text/latex": [
       "$\\displaystyle \\frac{- \\left({n}_{1} + {n}_{2} + {n}_{3}\\right) \\frac{\\partial}{\\partial {n}_{1}} B{\\left({n}_{1},{n}_{2},{n}_{3} \\right)} \\frac{\\partial}{\\partial {n}_{2}} B{\\left({n}_{1},{n}_{2},{n}_{3} \\right)} + \\left(\\frac{\\partial}{\\partial {n}_{1}} B{\\left({n}_{1},{n}_{2},{n}_{3} \\right)} + \\frac{\\partial^{2}}{\\partial {n}_{2}\\partial {n}_{1}} B{\\left({n}_{1},{n}_{2},{n}_{3} \\right)} {n}_{1} + \\frac{\\partial^{2}}{\\partial {n}_{2}\\partial {n}_{1}} B{\\left({n}_{1},{n}_{2},{n}_{3} \\right)} {n}_{2} + \\frac{\\partial^{2}}{\\partial {n}_{2}\\partial {n}_{1}} B{\\left({n}_{1},{n}_{2},{n}_{3} \\right)} {n}_{3}\\right) B{\\left({n}_{1},{n}_{2},{n}_{3} \\right)}}{B^{2}{\\left({n}_{1},{n}_{2},{n}_{3} \\right)}}$"
      ],
      "text/plain": [
       "(-(n[1] + n[2] + n[3])*Derivative(B(n[1], n[2], n[3]), n[1])*Derivative(B(n[1], n[2], n[3]), n[2]) + (Derivative(B(n[1], n[2], n[3]), n[1]) + Derivative(B(n[1], n[2], n[3]), n[1], n[2])*n[1] + Derivative(B(n[1], n[2], n[3]), n[1], n[2])*n[2] + Derivative(B(n[1], n[2], n[3]), n[1], n[2])*n[3])*B(n[1], n[2], n[3]))/B(n[1], n[2], n[3])**2"
      ]
     },
     "execution_count": 50,
     "metadata": {},
     "output_type": "execute_result"
    }
   ],
   "source": [
    "dBi = sp.diff(B, n1)\n",
    "\n",
    "coso = (\n",
    "    n1 * dBi + n2 * dBi + n3 * dBi\n",
    ")/B\n",
    "\n",
    "coso.diff(n2).simplify()"
   ]
  },
  {
   "cell_type": "markdown",
   "metadata": {},
   "source": []
  },
  {
   "cell_type": "markdown",
   "metadata": {},
   "source": [
    "## Ge Models"
   ]
  },
  {
   "cell_type": "code",
   "execution_count": 3,
   "metadata": {},
   "outputs": [
    {
     "data": {
      "text/latex": [
       "$\\displaystyle \\frac{E e^{- \\frac{E}{T}}}{T^{2}}$"
      ],
      "text/plain": [
       "E*exp(-E/T)/T**2"
      ]
     },
     "execution_count": 3,
     "metadata": {},
     "output_type": "execute_result"
    }
   ],
   "source": [
    "t, e = sp.symbols(\"T E\")\n",
    "\n",
    "psi = sp.exp(-e / t)\n",
    "\n",
    "sp.diff(psi, t)\n"
   ]
  },
  {
   "cell_type": "code",
   "execution_count": 5,
   "metadata": {},
   "outputs": [
    {
     "ename": "NameError",
     "evalue": "name 'psi' is not defined",
     "output_type": "error",
     "traceback": [
      "\u001b[0;31m---------------------------------------------------------------------------\u001b[0m",
      "\u001b[0;31mNameError\u001b[0m                                 Traceback (most recent call last)",
      "Cell \u001b[0;32mIn[5], line 1\u001b[0m\n\u001b[0;32m----> 1\u001b[0m sp\u001b[38;5;241m.\u001b[39mdiff(sp\u001b[38;5;241m.\u001b[39mdiff(\u001b[43mpsi\u001b[49m, t),t)\u001b[38;5;241m.\u001b[39msimplify()\n",
      "\u001b[0;31mNameError\u001b[0m: name 'psi' is not defined"
     ]
    }
   ],
   "source": [
    "sp.diff(sp.diff(psi, t),t).simplify()"
   ]
  },
  {
   "cell_type": "markdown",
   "metadata": {},
   "source": [
    "# Cubic roots"
   ]
  },
  {
   "cell_type": "code",
   "execution_count": 10,
   "metadata": {},
   "outputs": [],
   "source": [
    "import sympy as sp\n",
    "R = sp.symbols(\"R\")\n",
    "def generic_cubic(v, T, a, b, d1, d2):\n",
    "    return R*T/(v-b) - a/((v+d1*b)*(v+d2*b))\n",
    "\n",
    "P, R, T, v, b, a, c, d1, d2 = sp.symbols(r\"P R T v b a c \\delta_1 \\delta_2\")\n",
    "\n",
    "zero = generic_cubic(v, T, a, b, d1, d2) - P\n",
    "\n",
    "\n",
    "cubic = generic_cubic(v, T, a, b, d1, d2)\n",
    "cubic_p = generic_cubic(v-c, T, a, b, d1, d2)"
   ]
  },
  {
   "cell_type": "code",
   "execution_count": 12,
   "metadata": {},
   "outputs": [
    {
     "data": {
      "text/latex": [
       "$\\displaystyle - \\frac{R T}{\\left(- b + v\\right)^{2}} + \\frac{a}{\\left(\\delta_{1} b + v\\right) \\left(\\delta_{2} b + v\\right)^{2}} + \\frac{a}{\\left(\\delta_{1} b + v\\right)^{2} \\left(\\delta_{2} b + v\\right)}$"
      ],
      "text/plain": [
       "-R*T/(-b + v)**2 + a/((\\delta_1*b + v)*(\\delta_2*b + v)**2) + a/((\\delta_1*b + v)**2*(\\delta_2*b + v))"
      ]
     },
     "execution_count": 12,
     "metadata": {},
     "output_type": "execute_result"
    }
   ],
   "source": [
    "sp.diff(cubic, v)"
   ]
  },
  {
   "cell_type": "code",
   "execution_count": 14,
   "metadata": {},
   "outputs": [
    {
     "data": {
      "text/latex": [
       "$\\displaystyle - \\frac{R T}{\\left(- b - c + v\\right)^{2}} + \\frac{a}{\\left(\\delta_{1} b - c + v\\right) \\left(\\delta_{2} b - c + v\\right)^{2}} + \\frac{a}{\\left(\\delta_{1} b - c + v\\right)^{2} \\left(\\delta_{2} b - c + v\\right)}$"
      ],
      "text/plain": [
       "-R*T/(-b - c + v)**2 + a/((\\delta_1*b - c + v)*(\\delta_2*b - c + v)**2) + a/((\\delta_1*b - c + v)**2*(\\delta_2*b - c + v))"
      ]
     },
     "execution_count": 14,
     "metadata": {},
     "output_type": "execute_result"
    }
   ],
   "source": [
    "sp.diff(cubic_p, v)"
   ]
  },
  {
   "cell_type": "code",
   "execution_count": 3,
   "metadata": {},
   "outputs": [
    {
     "data": {
      "text/latex": [
       "$\\displaystyle - P - \\frac{R T}{b - v} - \\frac{a}{\\left(\\delta_{1} b + v\\right) \\left(\\delta_{2} b + v\\right)}$"
      ],
      "text/plain": [
       "-P - R*T/(b - v) - a/((\\delta_1*b + v)*(\\delta_2*b + v))"
      ]
     },
     "execution_count": 3,
     "metadata": {},
     "output_type": "execute_result"
    }
   ],
   "source": [
    "zero.simplify()"
   ]
  },
  {
   "cell_type": "code",
   "execution_count": 7,
   "metadata": {},
   "outputs": [
    {
     "data": {
      "text/latex": [
       "$\\displaystyle - P \\left(- b + v\\right) \\left(\\delta_{1} b + v\\right) \\left(\\delta_{2} b + v\\right) + R T \\left(\\delta_{1} b + v\\right) \\left(\\delta_{2} b + v\\right) - a \\left(- b + v\\right)$"
      ],
      "text/plain": [
       "-P*(-b + v)*(\\delta_1*b + v)*(\\delta_2*b + v) + R*T*(\\delta_1*b + v)*(\\delta_2*b + v) - a*(-b + v)"
      ]
     },
     "execution_count": 7,
     "metadata": {},
     "output_type": "execute_result"
    }
   ],
   "source": [
    "exp_2 = (v+d1*b)*(v+d2*b)# v**2 + (d1+d2)*b*v + d1*d2*b**2\n",
    "exp_1 = v - b\n",
    "\n",
    "exp = R*T*exp_2 - a * exp_1 - P * exp_1 * exp_2\n",
    "exp"
   ]
  },
  {
   "cell_type": "code",
   "execution_count": 8,
   "metadata": {},
   "outputs": [],
   "source": [
    "poly = sp.Poly(exp, gens=v)"
   ]
  },
  {
   "cell_type": "code",
   "execution_count": 9,
   "metadata": {},
   "outputs": [
    {
     "data": {
      "text/latex": [
       "$\\displaystyle - P$"
      ],
      "text/plain": [
       "-P"
      ]
     },
     "execution_count": 9,
     "metadata": {},
     "output_type": "execute_result"
    }
   ],
   "source": [
    "poly.coeffs()[0]"
   ]
  },
  {
   "cell_type": "code",
   "execution_count": 15,
   "metadata": {},
   "outputs": [
    {
     "data": {
      "text/latex": [
       "$\\displaystyle - P \\delta_{1} b - P \\delta_{2} b + P b + R T$"
      ],
      "text/plain": [
       "-P*\\delta_1*b - P*\\delta_2*b + P*b + R*T"
      ]
     },
     "execution_count": 15,
     "metadata": {},
     "output_type": "execute_result"
    }
   ],
   "source": [
    "poly.coeffs()[1]"
   ]
  },
  {
   "cell_type": "code",
   "execution_count": 14,
   "metadata": {},
   "outputs": [
    {
     "data": {
      "text/latex": [
       "$\\displaystyle - P \\delta_{1} \\delta_{2} b^{2} + P \\delta_{1} b^{2} + P \\delta_{2} b^{2} + R T \\delta_{1} b + R T \\delta_{2} b - a$"
      ],
      "text/plain": [
       "-P*\\delta_1*\\delta_2*b**2 + P*\\delta_1*b**2 + P*\\delta_2*b**2 + R*T*\\delta_1*b + R*T*\\delta_2*b - a"
      ]
     },
     "execution_count": 14,
     "metadata": {},
     "output_type": "execute_result"
    }
   ],
   "source": [
    "poly.coeffs()[2]"
   ]
  },
  {
   "cell_type": "code",
   "execution_count": 12,
   "metadata": {},
   "outputs": [
    {
     "data": {
      "text/latex": [
       "$\\displaystyle P \\delta_{1} \\delta_{2} b^{3} + R T \\delta_{1} \\delta_{2} b^{2} + a b$"
      ],
      "text/plain": [
       "P*\\delta_1*\\delta_2*b**3 + R*T*\\delta_1*\\delta_2*b**2 + a*b"
      ]
     },
     "execution_count": 12,
     "metadata": {},
     "output_type": "execute_result"
    }
   ],
   "source": [
    "\n",
    "poly.coeffs()[3]\n"
   ]
  }
 ],
 "metadata": {
  "kernelspec": {
   "display_name": "thermo",
   "language": "python",
   "name": "python3"
  },
  "language_info": {
   "codemirror_mode": {
    "name": "ipython",
    "version": 3
   },
   "file_extension": ".py",
   "mimetype": "text/x-python",
   "name": "python",
   "nbconvert_exporter": "python",
   "pygments_lexer": "ipython3",
   "version": "3.12.4"
  }
 },
 "nbformat": 4,
 "nbformat_minor": 2
}
